{
 "cells": [
  {
   "cell_type": "markdown",
   "metadata": {},
   "source": [
    "# Financial and Economic Data Applications"
   ]
  },
  {
   "cell_type": "code",
   "execution_count": 1,
   "metadata": {
    "collapsed": false
   },
   "outputs": [],
   "source": [
    "from __future__ import division\n",
    "from pandas import Series, DataFrame\n",
    "import pandas as pd\n",
    "from numpy.random import randn\n",
    "import numpy as np\n",
    "pd.options.display.max_rows = 12\n",
    "np.set_printoptions(precision=4, suppress=True)\n",
    "import matplotlib.pyplot as plt\n",
    "plt.rc('figure', figsize=(12, 6))"
   ]
  },
  {
   "cell_type": "code",
   "execution_count": 2,
   "metadata": {
    "collapsed": false
   },
   "outputs": [],
   "source": [
    "%matplotlib inline"
   ]
  },
  {
   "cell_type": "code",
   "execution_count": 3,
   "metadata": {
    "collapsed": false
   },
   "outputs": [
    {
     "data": {
      "text/plain": [
       "'/Users/1001235/MyDev/ws_study/pydata-book'"
      ]
     },
     "execution_count": 3,
     "metadata": {},
     "output_type": "execute_result"
    }
   ],
   "source": [
    "%pwd"
   ]
  },
  {
   "cell_type": "code",
   "execution_count": null,
   "metadata": {
    "collapsed": false
   },
   "outputs": [],
   "source": [
    "%cd ../book_scripts"
   ]
  },
  {
   "cell_type": "markdown",
   "metadata": {},
   "source": [
    "## Data munging topics"
   ]
  },
  {
   "cell_type": "markdown",
   "metadata": {},
   "source": [
    "### Time series and cross-section alignment"
   ]
  },
  {
   "cell_type": "code",
   "execution_count": 4,
   "metadata": {
    "collapsed": false
   },
   "outputs": [],
   "source": [
    "close_px = pd.read_csv('ch11/stock_px.csv', parse_dates=True, index_col=0)\n",
    "volume = pd.read_csv('ch11/volume.csv', parse_dates=True, index_col=0)\n",
    "prices = close_px.ix['2011-09-05':'2011-09-14', ['AAPL', 'JNJ', 'SPX', 'XOM']]\n",
    "volume = volume.ix['2011-09-05':'2011-09-12', ['AAPL', 'JNJ', 'XOM']]"
   ]
  },
  {
   "cell_type": "code",
   "execution_count": 5,
   "metadata": {
    "collapsed": false
   },
   "outputs": [
    {
     "data": {
      "text/html": [
       "<div>\n",
       "<table border=\"1\" class=\"dataframe\">\n",
       "  <thead>\n",
       "    <tr style=\"text-align: right;\">\n",
       "      <th></th>\n",
       "      <th>AAPL</th>\n",
       "      <th>JNJ</th>\n",
       "      <th>SPX</th>\n",
       "      <th>XOM</th>\n",
       "    </tr>\n",
       "  </thead>\n",
       "  <tbody>\n",
       "    <tr>\n",
       "      <th>2011-09-06</th>\n",
       "      <td>379.74</td>\n",
       "      <td>64.64</td>\n",
       "      <td>1165.24</td>\n",
       "      <td>71.15</td>\n",
       "    </tr>\n",
       "    <tr>\n",
       "      <th>2011-09-07</th>\n",
       "      <td>383.93</td>\n",
       "      <td>65.43</td>\n",
       "      <td>1198.62</td>\n",
       "      <td>73.65</td>\n",
       "    </tr>\n",
       "    <tr>\n",
       "      <th>2011-09-08</th>\n",
       "      <td>384.14</td>\n",
       "      <td>64.95</td>\n",
       "      <td>1185.90</td>\n",
       "      <td>72.82</td>\n",
       "    </tr>\n",
       "    <tr>\n",
       "      <th>2011-09-09</th>\n",
       "      <td>377.48</td>\n",
       "      <td>63.64</td>\n",
       "      <td>1154.23</td>\n",
       "      <td>71.01</td>\n",
       "    </tr>\n",
       "    <tr>\n",
       "      <th>2011-09-12</th>\n",
       "      <td>379.94</td>\n",
       "      <td>63.59</td>\n",
       "      <td>1162.27</td>\n",
       "      <td>71.84</td>\n",
       "    </tr>\n",
       "    <tr>\n",
       "      <th>2011-09-13</th>\n",
       "      <td>384.62</td>\n",
       "      <td>63.61</td>\n",
       "      <td>1172.87</td>\n",
       "      <td>71.65</td>\n",
       "    </tr>\n",
       "    <tr>\n",
       "      <th>2011-09-14</th>\n",
       "      <td>389.30</td>\n",
       "      <td>63.73</td>\n",
       "      <td>1188.68</td>\n",
       "      <td>72.64</td>\n",
       "    </tr>\n",
       "  </tbody>\n",
       "</table>\n",
       "</div>"
      ],
      "text/plain": [
       "              AAPL    JNJ      SPX    XOM\n",
       "2011-09-06  379.74  64.64  1165.24  71.15\n",
       "2011-09-07  383.93  65.43  1198.62  73.65\n",
       "2011-09-08  384.14  64.95  1185.90  72.82\n",
       "2011-09-09  377.48  63.64  1154.23  71.01\n",
       "2011-09-12  379.94  63.59  1162.27  71.84\n",
       "2011-09-13  384.62  63.61  1172.87  71.65\n",
       "2011-09-14  389.30  63.73  1188.68  72.64"
      ]
     },
     "execution_count": 5,
     "metadata": {},
     "output_type": "execute_result"
    }
   ],
   "source": [
    "prices"
   ]
  },
  {
   "cell_type": "code",
   "execution_count": 6,
   "metadata": {
    "collapsed": false
   },
   "outputs": [
    {
     "data": {
      "text/html": [
       "<div>\n",
       "<table border=\"1\" class=\"dataframe\">\n",
       "  <thead>\n",
       "    <tr style=\"text-align: right;\">\n",
       "      <th></th>\n",
       "      <th>AAPL</th>\n",
       "      <th>JNJ</th>\n",
       "      <th>XOM</th>\n",
       "    </tr>\n",
       "  </thead>\n",
       "  <tbody>\n",
       "    <tr>\n",
       "      <th>2011-09-06</th>\n",
       "      <td>18173500.0</td>\n",
       "      <td>15848300.0</td>\n",
       "      <td>25416300.0</td>\n",
       "    </tr>\n",
       "    <tr>\n",
       "      <th>2011-09-07</th>\n",
       "      <td>12492000.0</td>\n",
       "      <td>10759700.0</td>\n",
       "      <td>23108400.0</td>\n",
       "    </tr>\n",
       "    <tr>\n",
       "      <th>2011-09-08</th>\n",
       "      <td>14839800.0</td>\n",
       "      <td>15551500.0</td>\n",
       "      <td>22434800.0</td>\n",
       "    </tr>\n",
       "    <tr>\n",
       "      <th>2011-09-09</th>\n",
       "      <td>20171900.0</td>\n",
       "      <td>17008200.0</td>\n",
       "      <td>27969100.0</td>\n",
       "    </tr>\n",
       "    <tr>\n",
       "      <th>2011-09-12</th>\n",
       "      <td>16697300.0</td>\n",
       "      <td>13448200.0</td>\n",
       "      <td>26205800.0</td>\n",
       "    </tr>\n",
       "  </tbody>\n",
       "</table>\n",
       "</div>"
      ],
      "text/plain": [
       "                  AAPL         JNJ         XOM\n",
       "2011-09-06  18173500.0  15848300.0  25416300.0\n",
       "2011-09-07  12492000.0  10759700.0  23108400.0\n",
       "2011-09-08  14839800.0  15551500.0  22434800.0\n",
       "2011-09-09  20171900.0  17008200.0  27969100.0\n",
       "2011-09-12  16697300.0  13448200.0  26205800.0"
      ]
     },
     "execution_count": 6,
     "metadata": {},
     "output_type": "execute_result"
    }
   ],
   "source": [
    "volume"
   ]
  },
  {
   "cell_type": "code",
   "execution_count": 7,
   "metadata": {
    "collapsed": false
   },
   "outputs": [
    {
     "data": {
      "text/html": [
       "<div>\n",
       "<table border=\"1\" class=\"dataframe\">\n",
       "  <thead>\n",
       "    <tr style=\"text-align: right;\">\n",
       "      <th></th>\n",
       "      <th>AAPL</th>\n",
       "      <th>JNJ</th>\n",
       "      <th>SPX</th>\n",
       "      <th>XOM</th>\n",
       "    </tr>\n",
       "  </thead>\n",
       "  <tbody>\n",
       "    <tr>\n",
       "      <th>2011-09-06</th>\n",
       "      <td>6.901205e+09</td>\n",
       "      <td>1.024434e+09</td>\n",
       "      <td>NaN</td>\n",
       "      <td>1.808370e+09</td>\n",
       "    </tr>\n",
       "    <tr>\n",
       "      <th>2011-09-07</th>\n",
       "      <td>4.796054e+09</td>\n",
       "      <td>7.040072e+08</td>\n",
       "      <td>NaN</td>\n",
       "      <td>1.701934e+09</td>\n",
       "    </tr>\n",
       "    <tr>\n",
       "      <th>2011-09-08</th>\n",
       "      <td>5.700561e+09</td>\n",
       "      <td>1.010070e+09</td>\n",
       "      <td>NaN</td>\n",
       "      <td>1.633702e+09</td>\n",
       "    </tr>\n",
       "    <tr>\n",
       "      <th>2011-09-09</th>\n",
       "      <td>7.614489e+09</td>\n",
       "      <td>1.082402e+09</td>\n",
       "      <td>NaN</td>\n",
       "      <td>1.986086e+09</td>\n",
       "    </tr>\n",
       "    <tr>\n",
       "      <th>2011-09-12</th>\n",
       "      <td>6.343972e+09</td>\n",
       "      <td>8.551710e+08</td>\n",
       "      <td>NaN</td>\n",
       "      <td>1.882625e+09</td>\n",
       "    </tr>\n",
       "    <tr>\n",
       "      <th>2011-09-13</th>\n",
       "      <td>NaN</td>\n",
       "      <td>NaN</td>\n",
       "      <td>NaN</td>\n",
       "      <td>NaN</td>\n",
       "    </tr>\n",
       "    <tr>\n",
       "      <th>2011-09-14</th>\n",
       "      <td>NaN</td>\n",
       "      <td>NaN</td>\n",
       "      <td>NaN</td>\n",
       "      <td>NaN</td>\n",
       "    </tr>\n",
       "  </tbody>\n",
       "</table>\n",
       "</div>"
      ],
      "text/plain": [
       "                    AAPL           JNJ  SPX           XOM\n",
       "2011-09-06  6.901205e+09  1.024434e+09  NaN  1.808370e+09\n",
       "2011-09-07  4.796054e+09  7.040072e+08  NaN  1.701934e+09\n",
       "2011-09-08  5.700561e+09  1.010070e+09  NaN  1.633702e+09\n",
       "2011-09-09  7.614489e+09  1.082402e+09  NaN  1.986086e+09\n",
       "2011-09-12  6.343972e+09  8.551710e+08  NaN  1.882625e+09\n",
       "2011-09-13           NaN           NaN  NaN           NaN\n",
       "2011-09-14           NaN           NaN  NaN           NaN"
      ]
     },
     "execution_count": 7,
     "metadata": {},
     "output_type": "execute_result"
    }
   ],
   "source": [
    "prices * volume"
   ]
  },
  {
   "cell_type": "code",
   "execution_count": 8,
   "metadata": {
    "collapsed": false
   },
   "outputs": [],
   "source": [
    "vwap = (prices * volume).sum() / volume.sum()"
   ]
  },
  {
   "cell_type": "code",
   "execution_count": 9,
   "metadata": {
    "collapsed": false
   },
   "outputs": [
    {
     "data": {
      "text/plain": [
       "AAPL    380.655181\n",
       "JNJ      64.394769\n",
       "SPX            NaN\n",
       "XOM      72.024288\n",
       "dtype: float64"
      ]
     },
     "execution_count": 9,
     "metadata": {},
     "output_type": "execute_result"
    }
   ],
   "source": [
    "vwap"
   ]
  },
  {
   "cell_type": "code",
   "execution_count": 10,
   "metadata": {
    "collapsed": false
   },
   "outputs": [
    {
     "data": {
      "text/plain": [
       "AAPL    380.655181\n",
       "JNJ      64.394769\n",
       "XOM      72.024288\n",
       "dtype: float64"
      ]
     },
     "execution_count": 10,
     "metadata": {},
     "output_type": "execute_result"
    }
   ],
   "source": [
    "vwap.dropna()"
   ]
  },
  {
   "cell_type": "code",
   "execution_count": 11,
   "metadata": {
    "collapsed": false
   },
   "outputs": [
    {
     "data": {
      "text/plain": [
       "(              AAPL    JNJ    XOM\n",
       " 2011-09-06  379.74  64.64  71.15\n",
       " 2011-09-07  383.93  65.43  73.65\n",
       " 2011-09-08  384.14  64.95  72.82\n",
       " 2011-09-09  377.48  63.64  71.01\n",
       " 2011-09-12  379.94  63.59  71.84,\n",
       "                   AAPL         JNJ         XOM\n",
       " 2011-09-06  18173500.0  15848300.0  25416300.0\n",
       " 2011-09-07  12492000.0  10759700.0  23108400.0\n",
       " 2011-09-08  14839800.0  15551500.0  22434800.0\n",
       " 2011-09-09  20171900.0  17008200.0  27969100.0\n",
       " 2011-09-12  16697300.0  13448200.0  26205800.0)"
      ]
     },
     "execution_count": 11,
     "metadata": {},
     "output_type": "execute_result"
    }
   ],
   "source": [
    "prices.align(volume, join='inner')"
   ]
  },
  {
   "cell_type": "code",
   "execution_count": 12,
   "metadata": {
    "collapsed": false
   },
   "outputs": [
    {
     "data": {
      "text/html": [
       "<div>\n",
       "<table border=\"1\" class=\"dataframe\">\n",
       "  <thead>\n",
       "    <tr style=\"text-align: right;\">\n",
       "      <th></th>\n",
       "      <th>one</th>\n",
       "      <th>three</th>\n",
       "      <th>two</th>\n",
       "    </tr>\n",
       "  </thead>\n",
       "  <tbody>\n",
       "    <tr>\n",
       "      <th>a</th>\n",
       "      <td>0.0</td>\n",
       "      <td>1.0</td>\n",
       "      <td>NaN</td>\n",
       "    </tr>\n",
       "    <tr>\n",
       "      <th>b</th>\n",
       "      <td>1.0</td>\n",
       "      <td>NaN</td>\n",
       "      <td>1.0</td>\n",
       "    </tr>\n",
       "    <tr>\n",
       "      <th>c</th>\n",
       "      <td>2.0</td>\n",
       "      <td>2.0</td>\n",
       "      <td>2.0</td>\n",
       "    </tr>\n",
       "    <tr>\n",
       "      <th>d</th>\n",
       "      <td>NaN</td>\n",
       "      <td>NaN</td>\n",
       "      <td>0.0</td>\n",
       "    </tr>\n",
       "    <tr>\n",
       "      <th>e</th>\n",
       "      <td>NaN</td>\n",
       "      <td>NaN</td>\n",
       "      <td>3.0</td>\n",
       "    </tr>\n",
       "    <tr>\n",
       "      <th>f</th>\n",
       "      <td>NaN</td>\n",
       "      <td>0.0</td>\n",
       "      <td>NaN</td>\n",
       "    </tr>\n",
       "  </tbody>\n",
       "</table>\n",
       "</div>"
      ],
      "text/plain": [
       "   one  three  two\n",
       "a  0.0    1.0  NaN\n",
       "b  1.0    NaN  1.0\n",
       "c  2.0    2.0  2.0\n",
       "d  NaN    NaN  0.0\n",
       "e  NaN    NaN  3.0\n",
       "f  NaN    0.0  NaN"
      ]
     },
     "execution_count": 12,
     "metadata": {},
     "output_type": "execute_result"
    }
   ],
   "source": [
    "s1 = Series(range(3), index=['a', 'b', 'c'])\n",
    "s2 = Series(range(4), index=['d', 'b', 'c', 'e'])\n",
    "s3 = Series(range(3), index=['f', 'a', 'c'])\n",
    "DataFrame({'one': s1, 'two': s2, 'three': s3})"
   ]
  },
  {
   "cell_type": "code",
   "execution_count": 13,
   "metadata": {
    "collapsed": false
   },
   "outputs": [
    {
     "data": {
      "text/html": [
       "<div>\n",
       "<table border=\"1\" class=\"dataframe\">\n",
       "  <thead>\n",
       "    <tr style=\"text-align: right;\">\n",
       "      <th></th>\n",
       "      <th>one</th>\n",
       "      <th>three</th>\n",
       "      <th>two</th>\n",
       "    </tr>\n",
       "  </thead>\n",
       "  <tbody>\n",
       "    <tr>\n",
       "      <th>f</th>\n",
       "      <td>NaN</td>\n",
       "      <td>0.0</td>\n",
       "      <td>NaN</td>\n",
       "    </tr>\n",
       "    <tr>\n",
       "      <th>a</th>\n",
       "      <td>0.0</td>\n",
       "      <td>1.0</td>\n",
       "      <td>NaN</td>\n",
       "    </tr>\n",
       "    <tr>\n",
       "      <th>c</th>\n",
       "      <td>2.0</td>\n",
       "      <td>2.0</td>\n",
       "      <td>2.0</td>\n",
       "    </tr>\n",
       "    <tr>\n",
       "      <th>e</th>\n",
       "      <td>NaN</td>\n",
       "      <td>NaN</td>\n",
       "      <td>3.0</td>\n",
       "    </tr>\n",
       "  </tbody>\n",
       "</table>\n",
       "</div>"
      ],
      "text/plain": [
       "   one  three  two\n",
       "f  NaN    0.0  NaN\n",
       "a  0.0    1.0  NaN\n",
       "c  2.0    2.0  2.0\n",
       "e  NaN    NaN  3.0"
      ]
     },
     "execution_count": 13,
     "metadata": {},
     "output_type": "execute_result"
    }
   ],
   "source": [
    "DataFrame({'one': s1, 'two': s2, 'three': s3}, index=list('face'))"
   ]
  },
  {
   "cell_type": "markdown",
   "metadata": {},
   "source": [
    "### Operations with time series of different frequencies"
   ]
  },
  {
   "cell_type": "code",
   "execution_count": 14,
   "metadata": {
    "collapsed": false
   },
   "outputs": [
    {
     "data": {
      "text/plain": [
       "2012-06-13    1.519434\n",
       "2012-06-20    1.234445\n",
       "2012-06-27    0.601189\n",
       "Freq: W-WED, dtype: float64"
      ]
     },
     "execution_count": 14,
     "metadata": {},
     "output_type": "execute_result"
    }
   ],
   "source": [
    "ts1 = Series(np.random.randn(3),\n",
    "             index=pd.date_range('2012-6-13', periods=3, freq='W-WED'))\n",
    "ts1"
   ]
  },
  {
   "cell_type": "code",
   "execution_count": 18,
   "metadata": {
    "collapsed": false
   },
   "outputs": [
    {
     "data": {
      "text/plain": [
       "2012-06-13    1.519434\n",
       "2012-06-14         NaN\n",
       "2012-06-15         NaN\n",
       "2012-06-18         NaN\n",
       "2012-06-19         NaN\n",
       "2012-06-20    1.234445\n",
       "2012-06-21         NaN\n",
       "2012-06-22         NaN\n",
       "2012-06-25         NaN\n",
       "2012-06-26         NaN\n",
       "2012-06-27    0.601189\n",
       "Freq: B, dtype: float64"
      ]
     },
     "execution_count": 18,
     "metadata": {},
     "output_type": "execute_result"
    }
   ],
   "source": [
    "ts1.resample('B').mean()"
   ]
  },
  {
   "cell_type": "code",
   "execution_count": 21,
   "metadata": {
    "collapsed": false
   },
   "outputs": [
    {
     "data": {
      "text/plain": [
       "2012-06-13    1.519434\n",
       "2012-06-14    1.519434\n",
       "2012-06-15    1.519434\n",
       "2012-06-18    1.519434\n",
       "2012-06-19    1.519434\n",
       "2012-06-20    1.234445\n",
       "2012-06-21    1.234445\n",
       "2012-06-22    1.234445\n",
       "2012-06-25    1.234445\n",
       "2012-06-26    1.234445\n",
       "2012-06-27    0.601189\n",
       "Freq: B, dtype: float64"
      ]
     },
     "execution_count": 21,
     "metadata": {},
     "output_type": "execute_result"
    }
   ],
   "source": [
    "ts1.resample('B').ffill()"
   ]
  },
  {
   "cell_type": "code",
   "execution_count": 19,
   "metadata": {
    "collapsed": false
   },
   "outputs": [
    {
     "data": {
      "text/plain": [
       "2012-06-12    0.727193\n",
       "2012-06-17   -0.374645\n",
       "2012-06-18   -0.733114\n",
       "2012-06-21    0.402329\n",
       "2012-06-22   -0.532596\n",
       "2012-06-29    0.383957\n",
       "dtype: float64"
      ]
     },
     "execution_count": 19,
     "metadata": {},
     "output_type": "execute_result"
    }
   ],
   "source": [
    "dates = pd.DatetimeIndex(['2012-6-12', '2012-6-17', '2012-6-18',\n",
    "                          '2012-6-21', '2012-6-22', '2012-6-29'])\n",
    "ts2 = Series(np.random.randn(6), index=dates)\n",
    "ts2"
   ]
  },
  {
   "cell_type": "code",
   "execution_count": 23,
   "metadata": {
    "collapsed": false
   },
   "outputs": [
    {
     "data": {
      "text/plain": [
       "2012-06-13    1.519434\n",
       "2012-06-20    1.234445\n",
       "2012-06-27    0.601189\n",
       "Freq: W-WED, dtype: float64"
      ]
     },
     "execution_count": 23,
     "metadata": {},
     "output_type": "execute_result"
    }
   ],
   "source": [
    "ts1"
   ]
  },
  {
   "cell_type": "code",
   "execution_count": 27,
   "metadata": {
    "collapsed": false
   },
   "outputs": [
    {
     "data": {
      "text/plain": [
       "2012-06-12         NaN\n",
       "2012-06-17    1.519434\n",
       "2012-06-18    1.519434\n",
       "2012-06-21    1.234445\n",
       "2012-06-22    1.234445\n",
       "2012-06-29    0.601189\n",
       "dtype: float64"
      ]
     },
     "execution_count": 27,
     "metadata": {},
     "output_type": "execute_result"
    }
   ],
   "source": [
    "ts1.reindex(ts2.index, method='ffill')"
   ]
  },
  {
   "cell_type": "code",
   "execution_count": 22,
   "metadata": {
    "collapsed": false
   },
   "outputs": [
    {
     "data": {
      "text/plain": [
       "2012-06-12   NaN\n",
       "2012-06-17   NaN\n",
       "2012-06-18   NaN\n",
       "2012-06-21   NaN\n",
       "2012-06-22   NaN\n",
       "2012-06-29   NaN\n",
       "dtype: float64"
      ]
     },
     "execution_count": 22,
     "metadata": {},
     "output_type": "execute_result"
    }
   ],
   "source": [
    "ts1.reindex(ts2.index).ffill()"
   ]
  },
  {
   "cell_type": "code",
   "execution_count": 28,
   "metadata": {
    "collapsed": false
   },
   "outputs": [
    {
     "data": {
      "text/plain": [
       "2012-06-12         NaN\n",
       "2012-06-17    1.144789\n",
       "2012-06-18    0.786320\n",
       "2012-06-21    1.636774\n",
       "2012-06-22    0.701849\n",
       "2012-06-29    0.985146\n",
       "dtype: float64"
      ]
     },
     "execution_count": 28,
     "metadata": {},
     "output_type": "execute_result"
    }
   ],
   "source": [
    "ts2 + ts1.reindex(ts2.index, method='ffill')"
   ]
  },
  {
   "cell_type": "markdown",
   "metadata": {},
   "source": [
    "#### Using periods instead of timestamps"
   ]
  },
  {
   "cell_type": "code",
   "execution_count": 29,
   "metadata": {
    "collapsed": false
   },
   "outputs": [
    {
     "data": {
      "text/plain": [
       "1984Q2    1.78\n",
       "1984Q3    1.94\n",
       "1984Q4    2.08\n",
       "1985Q1    2.01\n",
       "1985Q2    2.15\n",
       "1985Q3    2.31\n",
       "1985Q4    2.46\n",
       "Freq: Q-SEP, dtype: float64"
      ]
     },
     "execution_count": 29,
     "metadata": {},
     "output_type": "execute_result"
    }
   ],
   "source": [
    "gdp = Series([1.78, 1.94, 2.08, 2.01, 2.15, 2.31, 2.46],\n",
    "             index=pd.period_range('1984Q2', periods=7, freq='Q-SEP'))\n",
    "infl = Series([0.025, 0.045, 0.037, 0.04],\n",
    "              index=pd.period_range('1982', periods=4, freq='A-DEC'))\n",
    "gdp"
   ]
  },
  {
   "cell_type": "code",
   "execution_count": 30,
   "metadata": {
    "collapsed": false
   },
   "outputs": [
    {
     "data": {
      "text/plain": [
       "1982    0.025\n",
       "1983    0.045\n",
       "1984    0.037\n",
       "1985    0.040\n",
       "Freq: A-DEC, dtype: float64"
      ]
     },
     "execution_count": 30,
     "metadata": {},
     "output_type": "execute_result"
    }
   ],
   "source": [
    "infl"
   ]
  },
  {
   "cell_type": "code",
   "execution_count": 31,
   "metadata": {
    "collapsed": false
   },
   "outputs": [],
   "source": [
    "infl_q = infl.asfreq('Q-SEP', how='end')"
   ]
  },
  {
   "cell_type": "code",
   "execution_count": 32,
   "metadata": {
    "collapsed": false
   },
   "outputs": [
    {
     "data": {
      "text/plain": [
       "1983Q1    0.025\n",
       "1984Q1    0.045\n",
       "1985Q1    0.037\n",
       "1986Q1    0.040\n",
       "Freq: Q-SEP, dtype: float64"
      ]
     },
     "execution_count": 32,
     "metadata": {},
     "output_type": "execute_result"
    }
   ],
   "source": [
    "infl_q"
   ]
  },
  {
   "cell_type": "code",
   "execution_count": 33,
   "metadata": {
    "collapsed": false
   },
   "outputs": [
    {
     "data": {
      "text/plain": [
       "1984Q2    0.045\n",
       "1984Q3    0.045\n",
       "1984Q4    0.045\n",
       "1985Q1    0.037\n",
       "1985Q2    0.037\n",
       "1985Q3    0.037\n",
       "1985Q4    0.037\n",
       "Freq: Q-SEP, dtype: float64"
      ]
     },
     "execution_count": 33,
     "metadata": {},
     "output_type": "execute_result"
    }
   ],
   "source": [
    "infl_q.reindex(gdp.index, method='ffill')"
   ]
  },
  {
   "cell_type": "markdown",
   "metadata": {},
   "source": [
    "### Time of day and \"as of\" data selection"
   ]
  },
  {
   "cell_type": "code",
   "execution_count": 34,
   "metadata": {
    "collapsed": false
   },
   "outputs": [
    {
     "data": {
      "text/plain": [
       "2012-06-01 09:30:00       0.0\n",
       "2012-06-01 09:31:00       1.0\n",
       "2012-06-01 09:32:00       2.0\n",
       "2012-06-01 09:33:00       3.0\n",
       "2012-06-01 09:34:00       4.0\n",
       "2012-06-01 09:35:00       5.0\n",
       "                        ...  \n",
       "2012-06-06 15:54:00    1554.0\n",
       "2012-06-06 15:55:00    1555.0\n",
       "2012-06-06 15:56:00    1556.0\n",
       "2012-06-06 15:57:00    1557.0\n",
       "2012-06-06 15:58:00    1558.0\n",
       "2012-06-06 15:59:00    1559.0\n",
       "dtype: float64"
      ]
     },
     "execution_count": 34,
     "metadata": {},
     "output_type": "execute_result"
    }
   ],
   "source": [
    "# Make an intraday date range and time series\n",
    "rng = pd.date_range('2012-06-01 09:30', '2012-06-01 15:59', freq='T')\n",
    "# Make a 5-day series of 9:30-15:59 values\n",
    "rng = rng.append([rng + pd.offsets.BDay(i) for i in range(1, 4)])\n",
    "ts = Series(np.arange(len(rng), dtype=float), index=rng)\n",
    "ts"
   ]
  },
  {
   "cell_type": "code",
   "execution_count": 35,
   "metadata": {
    "collapsed": false
   },
   "outputs": [
    {
     "data": {
      "text/plain": [
       "2012-06-01 10:00:00      30.0\n",
       "2012-06-04 10:00:00     420.0\n",
       "2012-06-05 10:00:00     810.0\n",
       "2012-06-06 10:00:00    1200.0\n",
       "dtype: float64"
      ]
     },
     "execution_count": 35,
     "metadata": {},
     "output_type": "execute_result"
    }
   ],
   "source": [
    "from datetime import time\n",
    "ts[time(10, 0)]"
   ]
  },
  {
   "cell_type": "code",
   "execution_count": 36,
   "metadata": {
    "collapsed": false
   },
   "outputs": [
    {
     "data": {
      "text/plain": [
       "datetime.time(10, 0)"
      ]
     },
     "execution_count": 36,
     "metadata": {},
     "output_type": "execute_result"
    }
   ],
   "source": [
    "time(10,0)"
   ]
  },
  {
   "cell_type": "code",
   "execution_count": 37,
   "metadata": {
    "collapsed": false
   },
   "outputs": [
    {
     "data": {
      "text/plain": [
       "2012-06-01 10:00:00      30.0\n",
       "2012-06-04 10:00:00     420.0\n",
       "2012-06-05 10:00:00     810.0\n",
       "2012-06-06 10:00:00    1200.0\n",
       "dtype: float64"
      ]
     },
     "execution_count": 37,
     "metadata": {},
     "output_type": "execute_result"
    }
   ],
   "source": [
    "ts.at_time(time(10, 0))"
   ]
  },
  {
   "cell_type": "code",
   "execution_count": 38,
   "metadata": {
    "collapsed": false
   },
   "outputs": [
    {
     "data": {
      "text/plain": [
       "2012-06-01 10:00:00      30.0\n",
       "2012-06-01 10:01:00      31.0\n",
       "2012-06-04 10:00:00     420.0\n",
       "2012-06-04 10:01:00     421.0\n",
       "2012-06-05 10:00:00     810.0\n",
       "2012-06-05 10:01:00     811.0\n",
       "2012-06-06 10:00:00    1200.0\n",
       "2012-06-06 10:01:00    1201.0\n",
       "dtype: float64"
      ]
     },
     "execution_count": 38,
     "metadata": {},
     "output_type": "execute_result"
    }
   ],
   "source": [
    "ts.between_time(time(10, 0), time(10, 1))"
   ]
  },
  {
   "cell_type": "code",
   "execution_count": 39,
   "metadata": {
    "collapsed": false
   },
   "outputs": [],
   "source": [
    "np.random.seed(12346)"
   ]
  },
  {
   "cell_type": "code",
   "execution_count": 40,
   "metadata": {
    "collapsed": false
   },
   "outputs": [
    {
     "data": {
      "text/plain": [
       "2012-06-01 09:50:00    20.0\n",
       "2012-06-01 09:51:00     NaN\n",
       "2012-06-01 09:52:00    22.0\n",
       "2012-06-01 09:53:00    23.0\n",
       "2012-06-01 09:54:00     NaN\n",
       "2012-06-01 09:55:00    25.0\n",
       "2012-06-01 09:56:00     NaN\n",
       "2012-06-01 09:57:00     NaN\n",
       "2012-06-01 09:58:00     NaN\n",
       "2012-06-01 09:59:00     NaN\n",
       "2012-06-01 10:00:00     NaN\n",
       "dtype: float64"
      ]
     },
     "execution_count": 40,
     "metadata": {},
     "output_type": "execute_result"
    }
   ],
   "source": [
    "# Set most of the time series randomly to NA\n",
    "indexer = np.sort(np.random.permutation(len(ts))[700:])\n",
    "irr_ts = ts.copy()\n",
    "irr_ts[indexer] = np.nan\n",
    "irr_ts['2012-06-01 09:50':'2012-06-01 10:00']"
   ]
  },
  {
   "cell_type": "code",
   "execution_count": 41,
   "metadata": {
    "collapsed": false
   },
   "outputs": [
    {
     "data": {
      "text/plain": [
       "2012-06-01 10:00:00      25.0\n",
       "2012-06-04 10:00:00     420.0\n",
       "2012-06-05 10:00:00     810.0\n",
       "2012-06-06 10:00:00    1197.0\n",
       "Freq: B, dtype: float64"
      ]
     },
     "execution_count": 41,
     "metadata": {},
     "output_type": "execute_result"
    }
   ],
   "source": [
    "selection = pd.date_range('2012-06-01 10:00', periods=4, freq='B')\n",
    "irr_ts.asof(selection)"
   ]
  },
  {
   "cell_type": "markdown",
   "metadata": {},
   "source": [
    "### Splicing together data sources"
   ]
  },
  {
   "cell_type": "code",
   "execution_count": 42,
   "metadata": {
    "collapsed": false
   },
   "outputs": [
    {
     "data": {
      "text/html": [
       "<div>\n",
       "<table border=\"1\" class=\"dataframe\">\n",
       "  <thead>\n",
       "    <tr style=\"text-align: right;\">\n",
       "      <th></th>\n",
       "      <th>a</th>\n",
       "      <th>b</th>\n",
       "      <th>c</th>\n",
       "    </tr>\n",
       "  </thead>\n",
       "  <tbody>\n",
       "    <tr>\n",
       "      <th>2012-06-12</th>\n",
       "      <td>1.0</td>\n",
       "      <td>1.0</td>\n",
       "      <td>1.0</td>\n",
       "    </tr>\n",
       "    <tr>\n",
       "      <th>2012-06-13</th>\n",
       "      <td>1.0</td>\n",
       "      <td>1.0</td>\n",
       "      <td>1.0</td>\n",
       "    </tr>\n",
       "    <tr>\n",
       "      <th>2012-06-14</th>\n",
       "      <td>1.0</td>\n",
       "      <td>1.0</td>\n",
       "      <td>1.0</td>\n",
       "    </tr>\n",
       "    <tr>\n",
       "      <th>2012-06-15</th>\n",
       "      <td>2.0</td>\n",
       "      <td>2.0</td>\n",
       "      <td>2.0</td>\n",
       "    </tr>\n",
       "    <tr>\n",
       "      <th>2012-06-16</th>\n",
       "      <td>2.0</td>\n",
       "      <td>2.0</td>\n",
       "      <td>2.0</td>\n",
       "    </tr>\n",
       "    <tr>\n",
       "      <th>2012-06-17</th>\n",
       "      <td>2.0</td>\n",
       "      <td>2.0</td>\n",
       "      <td>2.0</td>\n",
       "    </tr>\n",
       "    <tr>\n",
       "      <th>2012-06-18</th>\n",
       "      <td>2.0</td>\n",
       "      <td>2.0</td>\n",
       "      <td>2.0</td>\n",
       "    </tr>\n",
       "  </tbody>\n",
       "</table>\n",
       "</div>"
      ],
      "text/plain": [
       "              a    b    c\n",
       "2012-06-12  1.0  1.0  1.0\n",
       "2012-06-13  1.0  1.0  1.0\n",
       "2012-06-14  1.0  1.0  1.0\n",
       "2012-06-15  2.0  2.0  2.0\n",
       "2012-06-16  2.0  2.0  2.0\n",
       "2012-06-17  2.0  2.0  2.0\n",
       "2012-06-18  2.0  2.0  2.0"
      ]
     },
     "execution_count": 42,
     "metadata": {},
     "output_type": "execute_result"
    }
   ],
   "source": [
    "data1 = DataFrame(np.ones((6, 3), dtype=float),\n",
    "                  columns=['a', 'b', 'c'],\n",
    "                  index=pd.date_range('6/12/2012', periods=6))\n",
    "data2 = DataFrame(np.ones((6, 3), dtype=float) * 2,\n",
    "                  columns=['a', 'b', 'c'],\n",
    "                  index=pd.date_range('6/13/2012', periods=6))\n",
    "spliced = pd.concat([data1.ix[:'2012-06-14'], data2.ix['2012-06-15':]])\n",
    "spliced"
   ]
  },
  {
   "cell_type": "code",
   "execution_count": 43,
   "metadata": {
    "collapsed": false
   },
   "outputs": [
    {
     "data": {
      "text/html": [
       "<div>\n",
       "<table border=\"1\" class=\"dataframe\">\n",
       "  <thead>\n",
       "    <tr style=\"text-align: right;\">\n",
       "      <th></th>\n",
       "      <th>a</th>\n",
       "      <th>b</th>\n",
       "      <th>c</th>\n",
       "      <th>d</th>\n",
       "    </tr>\n",
       "  </thead>\n",
       "  <tbody>\n",
       "    <tr>\n",
       "      <th>2012-06-12</th>\n",
       "      <td>1.0</td>\n",
       "      <td>1.0</td>\n",
       "      <td>1.0</td>\n",
       "      <td>NaN</td>\n",
       "    </tr>\n",
       "    <tr>\n",
       "      <th>2012-06-13</th>\n",
       "      <td>1.0</td>\n",
       "      <td>1.0</td>\n",
       "      <td>1.0</td>\n",
       "      <td>NaN</td>\n",
       "    </tr>\n",
       "    <tr>\n",
       "      <th>2012-06-14</th>\n",
       "      <td>1.0</td>\n",
       "      <td>1.0</td>\n",
       "      <td>1.0</td>\n",
       "      <td>NaN</td>\n",
       "    </tr>\n",
       "    <tr>\n",
       "      <th>2012-06-15</th>\n",
       "      <td>2.0</td>\n",
       "      <td>2.0</td>\n",
       "      <td>2.0</td>\n",
       "      <td>2.0</td>\n",
       "    </tr>\n",
       "    <tr>\n",
       "      <th>2012-06-16</th>\n",
       "      <td>2.0</td>\n",
       "      <td>2.0</td>\n",
       "      <td>2.0</td>\n",
       "      <td>2.0</td>\n",
       "    </tr>\n",
       "    <tr>\n",
       "      <th>2012-06-17</th>\n",
       "      <td>2.0</td>\n",
       "      <td>2.0</td>\n",
       "      <td>2.0</td>\n",
       "      <td>2.0</td>\n",
       "    </tr>\n",
       "    <tr>\n",
       "      <th>2012-06-18</th>\n",
       "      <td>2.0</td>\n",
       "      <td>2.0</td>\n",
       "      <td>2.0</td>\n",
       "      <td>2.0</td>\n",
       "    </tr>\n",
       "  </tbody>\n",
       "</table>\n",
       "</div>"
      ],
      "text/plain": [
       "              a    b    c    d\n",
       "2012-06-12  1.0  1.0  1.0  NaN\n",
       "2012-06-13  1.0  1.0  1.0  NaN\n",
       "2012-06-14  1.0  1.0  1.0  NaN\n",
       "2012-06-15  2.0  2.0  2.0  2.0\n",
       "2012-06-16  2.0  2.0  2.0  2.0\n",
       "2012-06-17  2.0  2.0  2.0  2.0\n",
       "2012-06-18  2.0  2.0  2.0  2.0"
      ]
     },
     "execution_count": 43,
     "metadata": {},
     "output_type": "execute_result"
    }
   ],
   "source": [
    "data2 = DataFrame(np.ones((6, 4), dtype=float) * 2,\n",
    "                  columns=['a', 'b', 'c', 'd'],\n",
    "                  index=pd.date_range('6/13/2012', periods=6))\n",
    "spliced = pd.concat([data1.ix[:'2012-06-14'], data2.ix['2012-06-15':]])\n",
    "spliced"
   ]
  },
  {
   "cell_type": "code",
   "execution_count": 44,
   "metadata": {
    "collapsed": false
   },
   "outputs": [
    {
     "data": {
      "text/html": [
       "<div>\n",
       "<table border=\"1\" class=\"dataframe\">\n",
       "  <thead>\n",
       "    <tr style=\"text-align: right;\">\n",
       "      <th></th>\n",
       "      <th>a</th>\n",
       "      <th>b</th>\n",
       "      <th>c</th>\n",
       "      <th>d</th>\n",
       "    </tr>\n",
       "  </thead>\n",
       "  <tbody>\n",
       "    <tr>\n",
       "      <th>2012-06-12</th>\n",
       "      <td>1.0</td>\n",
       "      <td>1.0</td>\n",
       "      <td>1.0</td>\n",
       "      <td>NaN</td>\n",
       "    </tr>\n",
       "    <tr>\n",
       "      <th>2012-06-13</th>\n",
       "      <td>1.0</td>\n",
       "      <td>1.0</td>\n",
       "      <td>1.0</td>\n",
       "      <td>2.0</td>\n",
       "    </tr>\n",
       "    <tr>\n",
       "      <th>2012-06-14</th>\n",
       "      <td>1.0</td>\n",
       "      <td>1.0</td>\n",
       "      <td>1.0</td>\n",
       "      <td>2.0</td>\n",
       "    </tr>\n",
       "    <tr>\n",
       "      <th>2012-06-15</th>\n",
       "      <td>2.0</td>\n",
       "      <td>2.0</td>\n",
       "      <td>2.0</td>\n",
       "      <td>2.0</td>\n",
       "    </tr>\n",
       "    <tr>\n",
       "      <th>2012-06-16</th>\n",
       "      <td>2.0</td>\n",
       "      <td>2.0</td>\n",
       "      <td>2.0</td>\n",
       "      <td>2.0</td>\n",
       "    </tr>\n",
       "    <tr>\n",
       "      <th>2012-06-17</th>\n",
       "      <td>2.0</td>\n",
       "      <td>2.0</td>\n",
       "      <td>2.0</td>\n",
       "      <td>2.0</td>\n",
       "    </tr>\n",
       "    <tr>\n",
       "      <th>2012-06-18</th>\n",
       "      <td>2.0</td>\n",
       "      <td>2.0</td>\n",
       "      <td>2.0</td>\n",
       "      <td>2.0</td>\n",
       "    </tr>\n",
       "  </tbody>\n",
       "</table>\n",
       "</div>"
      ],
      "text/plain": [
       "              a    b    c    d\n",
       "2012-06-12  1.0  1.0  1.0  NaN\n",
       "2012-06-13  1.0  1.0  1.0  2.0\n",
       "2012-06-14  1.0  1.0  1.0  2.0\n",
       "2012-06-15  2.0  2.0  2.0  2.0\n",
       "2012-06-16  2.0  2.0  2.0  2.0\n",
       "2012-06-17  2.0  2.0  2.0  2.0\n",
       "2012-06-18  2.0  2.0  2.0  2.0"
      ]
     },
     "execution_count": 44,
     "metadata": {},
     "output_type": "execute_result"
    }
   ],
   "source": [
    "spliced_filled = spliced.combine_first(data2)\n",
    "spliced_filled"
   ]
  },
  {
   "cell_type": "code",
   "execution_count": 45,
   "metadata": {
    "collapsed": false
   },
   "outputs": [],
   "source": [
    "spliced.update(data2, overwrite=False)"
   ]
  },
  {
   "cell_type": "code",
   "execution_count": 46,
   "metadata": {
    "collapsed": false
   },
   "outputs": [
    {
     "data": {
      "text/html": [
       "<div>\n",
       "<table border=\"1\" class=\"dataframe\">\n",
       "  <thead>\n",
       "    <tr style=\"text-align: right;\">\n",
       "      <th></th>\n",
       "      <th>a</th>\n",
       "      <th>b</th>\n",
       "      <th>c</th>\n",
       "      <th>d</th>\n",
       "    </tr>\n",
       "  </thead>\n",
       "  <tbody>\n",
       "    <tr>\n",
       "      <th>2012-06-12</th>\n",
       "      <td>1.0</td>\n",
       "      <td>1.0</td>\n",
       "      <td>1.0</td>\n",
       "      <td>NaN</td>\n",
       "    </tr>\n",
       "    <tr>\n",
       "      <th>2012-06-13</th>\n",
       "      <td>1.0</td>\n",
       "      <td>1.0</td>\n",
       "      <td>1.0</td>\n",
       "      <td>2.0</td>\n",
       "    </tr>\n",
       "    <tr>\n",
       "      <th>2012-06-14</th>\n",
       "      <td>1.0</td>\n",
       "      <td>1.0</td>\n",
       "      <td>1.0</td>\n",
       "      <td>2.0</td>\n",
       "    </tr>\n",
       "    <tr>\n",
       "      <th>2012-06-15</th>\n",
       "      <td>2.0</td>\n",
       "      <td>2.0</td>\n",
       "      <td>2.0</td>\n",
       "      <td>2.0</td>\n",
       "    </tr>\n",
       "    <tr>\n",
       "      <th>2012-06-16</th>\n",
       "      <td>2.0</td>\n",
       "      <td>2.0</td>\n",
       "      <td>2.0</td>\n",
       "      <td>2.0</td>\n",
       "    </tr>\n",
       "    <tr>\n",
       "      <th>2012-06-17</th>\n",
       "      <td>2.0</td>\n",
       "      <td>2.0</td>\n",
       "      <td>2.0</td>\n",
       "      <td>2.0</td>\n",
       "    </tr>\n",
       "    <tr>\n",
       "      <th>2012-06-18</th>\n",
       "      <td>2.0</td>\n",
       "      <td>2.0</td>\n",
       "      <td>2.0</td>\n",
       "      <td>2.0</td>\n",
       "    </tr>\n",
       "  </tbody>\n",
       "</table>\n",
       "</div>"
      ],
      "text/plain": [
       "              a    b    c    d\n",
       "2012-06-12  1.0  1.0  1.0  NaN\n",
       "2012-06-13  1.0  1.0  1.0  2.0\n",
       "2012-06-14  1.0  1.0  1.0  2.0\n",
       "2012-06-15  2.0  2.0  2.0  2.0\n",
       "2012-06-16  2.0  2.0  2.0  2.0\n",
       "2012-06-17  2.0  2.0  2.0  2.0\n",
       "2012-06-18  2.0  2.0  2.0  2.0"
      ]
     },
     "execution_count": 46,
     "metadata": {},
     "output_type": "execute_result"
    }
   ],
   "source": [
    "spliced"
   ]
  },
  {
   "cell_type": "code",
   "execution_count": 47,
   "metadata": {
    "collapsed": false
   },
   "outputs": [
    {
     "data": {
      "text/html": [
       "<div>\n",
       "<table border=\"1\" class=\"dataframe\">\n",
       "  <thead>\n",
       "    <tr style=\"text-align: right;\">\n",
       "      <th></th>\n",
       "      <th>a</th>\n",
       "      <th>b</th>\n",
       "      <th>c</th>\n",
       "      <th>d</th>\n",
       "    </tr>\n",
       "  </thead>\n",
       "  <tbody>\n",
       "    <tr>\n",
       "      <th>2012-06-12</th>\n",
       "      <td>1.0</td>\n",
       "      <td>1.0</td>\n",
       "      <td>1.0</td>\n",
       "      <td>NaN</td>\n",
       "    </tr>\n",
       "    <tr>\n",
       "      <th>2012-06-13</th>\n",
       "      <td>1.0</td>\n",
       "      <td>1.0</td>\n",
       "      <td>1.0</td>\n",
       "      <td>2.0</td>\n",
       "    </tr>\n",
       "    <tr>\n",
       "      <th>2012-06-14</th>\n",
       "      <td>1.0</td>\n",
       "      <td>1.0</td>\n",
       "      <td>1.0</td>\n",
       "      <td>2.0</td>\n",
       "    </tr>\n",
       "    <tr>\n",
       "      <th>2012-06-15</th>\n",
       "      <td>1.0</td>\n",
       "      <td>2.0</td>\n",
       "      <td>1.0</td>\n",
       "      <td>2.0</td>\n",
       "    </tr>\n",
       "    <tr>\n",
       "      <th>2012-06-16</th>\n",
       "      <td>1.0</td>\n",
       "      <td>2.0</td>\n",
       "      <td>1.0</td>\n",
       "      <td>2.0</td>\n",
       "    </tr>\n",
       "    <tr>\n",
       "      <th>2012-06-17</th>\n",
       "      <td>1.0</td>\n",
       "      <td>2.0</td>\n",
       "      <td>1.0</td>\n",
       "      <td>2.0</td>\n",
       "    </tr>\n",
       "    <tr>\n",
       "      <th>2012-06-18</th>\n",
       "      <td>NaN</td>\n",
       "      <td>2.0</td>\n",
       "      <td>NaN</td>\n",
       "      <td>2.0</td>\n",
       "    </tr>\n",
       "  </tbody>\n",
       "</table>\n",
       "</div>"
      ],
      "text/plain": [
       "              a    b    c    d\n",
       "2012-06-12  1.0  1.0  1.0  NaN\n",
       "2012-06-13  1.0  1.0  1.0  2.0\n",
       "2012-06-14  1.0  1.0  1.0  2.0\n",
       "2012-06-15  1.0  2.0  1.0  2.0\n",
       "2012-06-16  1.0  2.0  1.0  2.0\n",
       "2012-06-17  1.0  2.0  1.0  2.0\n",
       "2012-06-18  NaN  2.0  NaN  2.0"
      ]
     },
     "execution_count": 47,
     "metadata": {},
     "output_type": "execute_result"
    }
   ],
   "source": [
    "cp_spliced = spliced.copy()\n",
    "cp_spliced[['a', 'c']] = data1[['a', 'c']]\n",
    "cp_spliced"
   ]
  },
  {
   "cell_type": "markdown",
   "metadata": {},
   "source": [
    "### Return indexes and cumulative returns"
   ]
  },
  {
   "cell_type": "code",
   "execution_count": 60,
   "metadata": {
    "collapsed": false
   },
   "outputs": [
    {
     "data": {
      "text/plain": [
       "Date\n",
       "2011-01-03    43.337747\n",
       "2011-01-04    43.563925\n",
       "2011-01-05    43.920283\n",
       "2011-01-06    43.884776\n",
       "2011-01-07    44.199058\n",
       "Name: Adj Close, dtype: float64"
      ]
     },
     "execution_count": 60,
     "metadata": {},
     "output_type": "execute_result"
    }
   ],
   "source": [
    "#import pandas.io.data as web\n",
    "from pandas.io import data as web\n",
    "price = web.get_data_yahoo('AAPL', '2011-01-01')['Adj Close']\n",
    "price[:5]"
   ]
  },
  {
   "cell_type": "code",
   "execution_count": 56,
   "metadata": {
    "collapsed": false
   },
   "outputs": [
    {
     "data": {
      "text/plain": [
       "0.072399882142698768"
      ]
     },
     "execution_count": 56,
     "metadata": {},
     "output_type": "execute_result"
    }
   ],
   "source": [
    "price['2011-10-03'] / price['2011-3-01'] - 1"
   ]
  },
  {
   "cell_type": "code",
   "execution_count": 64,
   "metadata": {
    "collapsed": false
   },
   "outputs": [
    {
     "data": {
      "text/plain": [
       "0.013441769365629566"
      ]
     },
     "execution_count": 64,
     "metadata": {},
     "output_type": "execute_result"
    }
   ],
   "source": [
    "(price['2011-01-05']-price['2011-01-03']) / price['2011-01-03']"
   ]
  },
  {
   "cell_type": "code",
   "execution_count": 66,
   "metadata": {
    "collapsed": false
   },
   "outputs": [
    {
     "data": {
      "text/plain": [
       "0.0052189607364683107"
      ]
     },
     "execution_count": 66,
     "metadata": {},
     "output_type": "execute_result"
    }
   ],
   "source": [
    "(price['2011-01-04']-price['2011-01-03']) / price['2011-01-03']"
   ]
  },
  {
   "cell_type": "code",
   "execution_count": 67,
   "metadata": {
    "collapsed": false
   },
   "outputs": [
    {
     "data": {
      "text/plain": [
       "0.0081801169201353476"
      ]
     },
     "execution_count": 67,
     "metadata": {},
     "output_type": "execute_result"
    }
   ],
   "source": [
    "(price['2011-01-05']-price['2011-01-04']) / price['2011-01-04']"
   ]
  },
  {
   "cell_type": "code",
   "execution_count": 68,
   "metadata": {
    "collapsed": false
   },
   "outputs": [
    {
     "data": {
      "text/plain": [
       "0.013399077656603659"
      ]
     },
     "execution_count": 68,
     "metadata": {},
     "output_type": "execute_result"
    }
   ],
   "source": [
    "(price['2011-01-04']-price['2011-01-03']) / price['2011-01-03'] + (price['2011-01-05']-price['2011-01-04']) / price['2011-01-04']"
   ]
  },
  {
   "cell_type": "code",
   "execution_count": 65,
   "metadata": {
    "collapsed": false
   },
   "outputs": [
    {
     "data": {
      "text/plain": [
       "0.013399"
      ]
     },
     "execution_count": 65,
     "metadata": {},
     "output_type": "execute_result"
    }
   ],
   "source": [
    "0.005219 + 0.008180"
   ]
  },
  {
   "cell_type": "code",
   "execution_count": 53,
   "metadata": {
    "collapsed": false
   },
   "outputs": [
    {
     "data": {
      "text/plain": [
       "Date\n",
       "2011-01-03         NaN\n",
       "2011-01-04    0.005219\n",
       "2011-01-05    0.008180\n",
       "2011-01-06   -0.000808\n",
       "2011-01-07    0.007162\n",
       "2011-01-10    0.018833\n",
       "                ...   \n",
       "2016-07-13   -0.005646\n",
       "2016-07-14    0.019820\n",
       "2016-07-15   -0.000101\n",
       "2016-07-18    0.010630\n",
       "2016-07-19    0.000401\n",
       "2016-07-20    0.000901\n",
       "Name: Adj Close, dtype: float64"
      ]
     },
     "execution_count": 53,
     "metadata": {},
     "output_type": "execute_result"
    }
   ],
   "source": [
    "returns = price.pct_change()\n",
    "returns"
   ]
  },
  {
   "cell_type": "code",
   "execution_count": 57,
   "metadata": {
    "collapsed": false
   },
   "outputs": [
    {
     "data": {
      "text/plain": [
       "Date\n",
       "2011-01-03    1.000000\n",
       "2011-01-04    1.005219\n",
       "2011-01-05    1.013442\n",
       "2011-01-06    1.012622\n",
       "2011-01-07    1.019874\n",
       "2011-01-10    1.039081\n",
       "                ...   \n",
       "2016-07-13    2.235234\n",
       "2016-07-14    2.279537\n",
       "2016-07-15    2.279306\n",
       "2016-07-18    2.303535\n",
       "2016-07-19    2.304458\n",
       "2016-07-20    2.306534\n",
       "Name: Adj Close, dtype: float64"
      ]
     },
     "execution_count": 57,
     "metadata": {},
     "output_type": "execute_result"
    }
   ],
   "source": [
    "ret_index = (1 + returns).cumprod()\n",
    "#ret_index = returns.cumprod()\n",
    "ret_index[0] = 1  # Set first value to 1\n",
    "ret_index"
   ]
  },
  {
   "cell_type": "code",
   "execution_count": 70,
   "metadata": {
    "collapsed": false
   },
   "outputs": [
    {
     "data": {
      "text/plain": [
       "Date\n",
       "2012-01-31    0.127111\n",
       "2012-02-29    0.188311\n",
       "2012-03-30    0.105283\n",
       "2012-04-30   -0.025970\n",
       "2012-05-31   -0.010702\n",
       "2012-06-29    0.010853\n",
       "2012-07-31    0.045822\n",
       "2012-08-31    0.093877\n",
       "2012-09-28    0.002796\n",
       "2012-10-31   -0.107600\n",
       "2012-11-30   -0.012375\n",
       "2012-12-31   -0.090743\n",
       "Freq: BM, Name: Adj Close, dtype: float64"
      ]
     },
     "execution_count": 70,
     "metadata": {},
     "output_type": "execute_result"
    }
   ],
   "source": [
    "m_returns = ret_index.resample('BM').last().pct_change()\n",
    "m_returns['2012']"
   ]
  },
  {
   "cell_type": "code",
   "execution_count": 71,
   "metadata": {
    "collapsed": false,
    "scrolled": true
   },
   "outputs": [
    {
     "name": "stderr",
     "output_type": "stream",
     "text": [
      "//anaconda/lib/python3.5/site-packages/ipykernel/__main__.py:1: FutureWarning: how in .resample() is deprecated\n",
      "the new syntax is .resample(...).prod()\n",
      "  if __name__ == '__main__':\n"
     ]
    },
    {
     "data": {
      "text/plain": [
       "Date\n",
       "2012-01    0.127111\n",
       "2012-02    0.188311\n",
       "2012-03    0.105283\n",
       "2012-04   -0.025970\n",
       "2012-05   -0.010702\n",
       "2012-06    0.010853\n",
       "2012-07    0.045822\n",
       "2012-08    0.093877\n",
       "2012-09    0.002796\n",
       "2012-10   -0.107600\n",
       "2012-11   -0.012375\n",
       "2012-12   -0.090743\n",
       "Freq: M, Name: Adj Close, dtype: float64"
      ]
     },
     "execution_count": 71,
     "metadata": {},
     "output_type": "execute_result"
    }
   ],
   "source": [
    "m_rets = (1 + returns).resample('M', how='prod', kind='period') - 1\n",
    "m_rets['2012']"
   ]
  },
  {
   "cell_type": "raw",
   "metadata": {},
   "source": [
    "returns[dividend_dates] += dividend_pcts"
   ]
  },
  {
   "cell_type": "markdown",
   "metadata": {},
   "source": [
    "## Group transforms and analysis"
   ]
  },
  {
   "cell_type": "code",
   "execution_count": 72,
   "metadata": {
    "collapsed": false
   },
   "outputs": [],
   "source": [
    "pd.options.display.max_rows = 100\n",
    "pd.options.display.max_columns = 10\n",
    "np.random.seed(12345)"
   ]
  },
  {
   "cell_type": "code",
   "execution_count": 74,
   "metadata": {
    "collapsed": false
   },
   "outputs": [],
   "source": [
    "import random; random.seed(0)\n",
    "import string\n",
    "\n",
    "N = 1000\n",
    "def rands(n):\n",
    "    choices = string.ascii_uppercase\n",
    "    return ''.join([random.choice(choices) for _ in range(n)])\n",
    "tickers = np.array([rands(5) for _ in range(N)])"
   ]
  },
  {
   "cell_type": "code",
   "execution_count": 75,
   "metadata": {
    "collapsed": false
   },
   "outputs": [
    {
     "data": {
      "text/plain": [
       "array(['MYNBI', 'QPMZJ', 'PLSGQ', 'EJEYD', 'TZIRW', 'ZTEJD', 'XCVKP',\n",
       "       'RDLNK', 'TUGRP', 'OQIBZ', 'RACXM', 'WZVUA', 'TPKHX', 'KWCGS',\n",
       "       'HHZEZ', 'ROCCK', 'QPDJR', 'JWDRK', 'RGZTR', 'SJOCT', 'ZMKSH',\n",
       "       'JFGFB', 'TVIPC', 'CVYEE', 'BCWRV', 'MWQIQ', 'ZHGVS', 'NSIOP',\n",
       "       'VUWZL', 'CKTDP', 'SUKGH', 'AXIDW', 'HLZFK', 'NBDZE', 'WHBSU',\n",
       "       'RTVCA', 'DUGTS', 'DMCLD', 'BTAGF', 'WDPGX', 'ZBVAR', 'NTDIC',\n",
       "       'HCUJL', 'NFBQO', 'BTDWM', 'GILXP', 'SFWVG', 'YBZVF', 'FKQID',\n",
       "       'TOVFA', 'PVNSQ', 'JULMV', 'IERWA', 'OXCKX', 'BRIEH', 'YPLTJ',\n",
       "       'VLSUT', 'EWJMX', 'NUCAT', 'GWKFH', 'HUOMW', 'VSNBM', 'WSNYV',\n",
       "       'WBFOC', 'IWFOQ', 'PRTYA', 'BPKJO', 'BZZNG', 'RUCXE', 'AMVNK',\n",
       "       'AGAWY', 'AVQTD', 'GDTUG', 'JIWFD', 'PMUCA', 'IOZZD', 'IEUQU',\n",
       "       'ULDEI', 'ABBGV', 'IRKLS', 'BXWTU', 'PWUOU', 'NLRFG', 'MSJAE',\n",
       "       'EIKKZ', 'LWCKY', 'TBBIF', 'ESJLM', 'REJDP', 'XHBJF', 'QXCJM',\n",
       "       'KJNDD', 'RPPKZ', 'ZKDPD', 'WPNBJ', 'KXVEF', 'USMZU', 'CCZCG',\n",
       "       'XHBMA', 'DMRQJ', 'OPZSW', 'VGNCL', 'HISYF', 'NGLDC', 'WAQOY',\n",
       "       'VGDPM', 'IGUBZ', 'GTEDG', 'OMLRE', 'DTPES', 'MUVNQ', 'PVKPP',\n",
       "       'UVGRT', 'HAKWX', 'KKBQE', 'ITZEM', 'SJWWZ', 'PCZCQ', 'BCHEB',\n",
       "       'JAYOK', 'FZEUO', 'LQMQQ', 'BSCVZ', 'ZQYTC', 'XNYGJ', 'RTNPZ',\n",
       "       'MTSHZ', 'AVAXF', 'JQSIK', 'CPIJY', 'NMZMB', 'FUEHJ', 'XKBBP',\n",
       "       'NEPTW', 'CVWEZ', 'LNBTO', 'MOBDP', 'YEABT', 'TEUKD', 'WRULG',\n",
       "       'MZYYP', 'DBTWO', 'TUKUD', 'VWTJZ', 'EMZJX', 'VZDQZ', 'GBZMO',\n",
       "       'LYGOL', 'ZUCBB', 'PIAQV', 'SSGHC', 'YUYQW', 'QNQJD', 'ENSNC',\n",
       "       'DNCDN', 'YEXAZ', 'ONVNA', 'PKXIC', 'LCDLW', 'ALLFA', 'HLCTE',\n",
       "       'GAGVV', 'XDXAJ', 'LWATH', 'EFODP', 'LWIEA', 'GLKPJ', 'JRUKF',\n",
       "       'SCDRS', 'JFMEE', 'ZHKQH', 'HYFJL', 'NVBET', 'AMCWC', 'ENJRN',\n",
       "       'XESNJ', 'ULCHO', 'ULUQB', 'MNANX', 'KOGLJ', 'PCFZD', 'IDRTW',\n",
       "       'EZWOM', 'FYNNF', 'HOKQE', 'LOUUC', 'PYGJA', 'WOTOA', 'GJDYU',\n",
       "       'JRTEN', 'WYPCV', 'PYHRY', 'MIUAD', 'IVBAI', 'MQSWM', 'ODXIL',\n",
       "       'JYVGT', 'CBCZI', 'JRKDQ', 'HYFCN', 'JJQES', 'QUGRD', 'NURMX',\n",
       "       'YZIJO', 'LSUEF', 'DWDMM', 'SOERV', 'JLUPX', 'NGPPW', 'QKPUB',\n",
       "       'OJEXP', 'BTGAL', 'PMAQC', 'VCVXV', 'MALBD', 'TAIUW', 'JXHEY',\n",
       "       'SJGDN', 'OWKMF', 'KNUVN', 'EOWEQ', 'KEGFO', 'LZMNZ', 'PMXHZ',\n",
       "       'GOGSW', 'BMBHU', 'CFLBX', 'UVFHT', 'JTCWQ', 'YJYLN', 'OBUWQ',\n",
       "       'VURXN', 'SOPIW', 'PGKIB', 'BBFLA', 'JUAEC', 'ZNVHT', 'MRHOG',\n",
       "       'KTDTC', 'ZKKRO', 'KIAQB', 'GLCGQ', 'LGGIV', 'XXJJQ', 'MIPLW',\n",
       "       'HBJRC', 'AOPXO', 'BZNPO', 'ODCCH', 'DYENG', 'OTCNR', 'YMBFH',\n",
       "       'PHEIL', 'KNDRJ', 'TRZGW', 'JYOQT', 'ORUII', 'HADTZ', 'WDFXN',\n",
       "       'HGJXV', 'AXRQN', 'BDMUI', 'DXSLH', 'VWWRV', 'JHXHC', 'QJVKH',\n",
       "       'LUPJS', 'FEZAR', 'QKLSU', 'AZEME', 'FQCEY', 'GZYPS', 'YWGHX',\n",
       "       'EHYML', 'TSEUP', 'DTAQT', 'LPOJA', 'HRUFV', 'PZXPR', 'KWCIE',\n",
       "       'TMWGK', 'ZJMBG', 'BKXXH', 'KOVXV', 'VHILV', 'FJALS', 'RBXUE',\n",
       "       'LAPUB', 'AHBAH', 'UKCBL', 'VNEGO', 'NELJF', 'UKXZX', 'NMANI',\n",
       "       'RRZXV', 'WOYBS', 'DNMFA', 'QETVQ', 'XWECK', 'HFHAZ', 'FXZVR',\n",
       "       'FWCNT', 'DTUOW', 'ETTBI', 'KZXXM', 'AUBPC', 'LJVEO', 'HQLFX',\n",
       "       'YMKIZ', 'PMAJQ', 'JRPBY', 'RSRIV', 'BOMXD', 'MLPBA', 'IXBIV',\n",
       "       'VSWYJ', 'VYGYQ', 'QKMIG', 'DSKZH', 'SVXRV', 'LFEKX', 'ASBSE',\n",
       "       'LLJUJ', 'KPZMT', 'NFAZE', 'SBOEK', 'AXPVV', 'YIXTG', 'CRNIF',\n",
       "       'QFCVU', 'FSDQU', 'ZRTMY', 'NIJJA', 'NYWII', 'RQRKK', 'GWZNZ',\n",
       "       'EAYQE', 'ZVWZS', 'MLOBR', 'NUTZZ', 'YHALQ', 'FVGUL', 'UWPAX',\n",
       "       'XHSHI', 'FYNCS', 'OHXWO', 'QZZWD', 'GFOCN', 'UMIIN', 'YYLTK',\n",
       "       'CJAPA', 'YIGYM', 'MNYUU', 'VMWBS', 'OLSES', 'WIKAM', 'PQEBC',\n",
       "       'SLLAC', 'GWDVR', 'PBKAK', 'MEYUI', 'NVETE', 'MJQBF', 'EEPWU',\n",
       "       'WYXBX', 'QBRWX', 'WUMFL', 'ZSCCR', 'FIGZI', 'KWWIZ', 'IQOEY',\n",
       "       'OREBU', 'SFUQB', 'YKCGU', 'ZOTHZ', 'OQFWK', 'UEPYR', 'BRCQK',\n",
       "       'AYCDN', 'TLSOK', 'MQLUD', 'EKAFX', 'EAKTG', 'BNUBW', 'JZMBT',\n",
       "       'YZWFL', 'CNBOL', 'TTYIV', 'JSZON', 'FAOZI', 'GMCLD', 'DALAF',\n",
       "       'MTWUA', 'KOZRX', 'WPPCB', 'RMZZI', 'AUQDC', 'KLDPB', 'EQUZJ',\n",
       "       'BAMKF', 'RWEFF', 'YFUVH', 'TKAPU', 'VMBHH', 'UJKFH', 'LHFNO',\n",
       "       'LSEMS', 'YAFSA', 'VMWZF', 'EAAKQ', 'ABBYD', 'STEYE', 'VZMZA',\n",
       "       'NNSVK', 'WHELQ', 'GRMCE', 'NSVLD', 'NNHPM', 'HMHUP', 'MSCII',\n",
       "       'QLRAT', 'TYPHI', 'BTKZM', 'UDRBE', 'WMAYN', 'XMNDW', 'OTOFF',\n",
       "       'KPNFS', 'JYQDL', 'LEULY', 'PUQYB', 'GIFXS', 'KJMUB', 'JRNBV',\n",
       "       'NIMXG', 'LEEDT', 'LFANS', 'MOCUW', 'WVCYN', 'RXREF', 'EGFHA',\n",
       "       'QEPLT', 'XJWZK', 'VDZNY', 'IFKUQ', 'KRWEM', 'XXRJH', 'MLMPQ',\n",
       "       'JNNDV', 'EEAST', 'UWQDW', 'YUWGT', 'UTQDI', 'WXTFM', 'CZBAD',\n",
       "       'LXPKD', 'VOLSW', 'IVPZY', 'HFRRC', 'YQFAU', 'FQNTV', 'GOWVM',\n",
       "       'IASEM', 'FOSBM', 'ZCUSM', 'KHQOB', 'PTDIQ', 'PRUMP', 'IFHRL',\n",
       "       'FJTEO', 'CCPMS', 'NRCIP', 'HDJEL', 'ZDEVB', 'VESRG', 'ABMRW',\n",
       "       'YTPWW', 'DPRLY', 'KDVAH', 'HPJIH', 'APLQK', 'CCJSN', 'HXLMY',\n",
       "       'EHJGX', 'YPVZL', 'JMTEY', 'DMLQP', 'HUWLU', 'LNILM', 'YYWJD',\n",
       "       'PJDOE', 'LHXFK', 'PHDVM', 'MOQOS', 'THVMQ', 'JPHKQ', 'VACPK',\n",
       "       'MHNBS', 'YBNCI', 'GXKFD', 'FZWLA', 'HBAMR', 'AEDTT', 'GCXOG',\n",
       "       'AQTNC', 'RFHHN', 'MPZAN', 'GMYBT', 'IASLW', 'LKVOU', 'ETQCI',\n",
       "       'DWDIA', 'WETYV', 'EMGSV', 'KGNQQ', 'DRDWP', 'DQOPF', 'ORKEN',\n",
       "       'IMCSQ', 'KHOHL', 'PYNAO', 'XARMY', 'YOHNH', 'IPPEH', 'OJLUP',\n",
       "       'TEQVC', 'GJQUV', 'DBEKB', 'KTZFY', 'OMVGN', 'PGFMB', 'ZZYKY',\n",
       "       'VQGXK', 'FQRWT', 'SNEUW', 'TPVSG', 'TOBHP', 'TKRXG', 'ABBEH',\n",
       "       'OVTHV', 'VDYQN', 'UUJVK', 'PVGFL', 'RLWOM', 'OVKOC', 'EHYDY',\n",
       "       'EMOWR', 'GLWBA', 'MGCNS', 'SZNRG', 'UAVEQ', 'UPJMR', 'RCCTX',\n",
       "       'PYAGN', 'TYLJC', 'XAYZH', 'TASQL', 'EOIDS', 'OIHMM', 'XQKHS',\n",
       "       'ICBEK', 'USSPC', 'QPNKM', 'XADNT', 'VEYEA', 'DWNHB', 'UIIMD',\n",
       "       'LJLTZ', 'UGXRR', 'BKQRA', 'FPAUI', 'KELDT', 'RNZYC', 'ISDQC',\n",
       "       'SEPBQ', 'ZHLDR', 'WGFWV', 'HMGTW', 'XOLFI', 'XLRGG', 'OKEIR',\n",
       "       'VYYAC', 'VKJWZ', 'KBCTA', 'JZDFW', 'IGQRL', 'OCNQR', 'NDCSO',\n",
       "       'KFJHU', 'NVWJB', 'AAUIC', 'VKKRU', 'JBZWH', 'WQEIT', 'BZMNI',\n",
       "       'SHIKZ', 'RPOWD', 'NLFQB', 'HWZPM', 'AHCJD', 'FEOAY', 'LQNDQ',\n",
       "       'HPJIM', 'NPWBF', 'WQLGH', 'EHZJZ', 'EFRIR', 'AFHXN', 'WFHYR',\n",
       "       'ESVFX', 'HQYJZ', 'ZWXAX', 'OZGBN', 'FMQMG', 'MRQPD', 'ECRAC',\n",
       "       'AXHXM', 'OVINL', 'VMIXC', 'YFSHX', 'GBYBQ', 'ZCWOH', 'OWYYV',\n",
       "       'ETUQJ', 'ATELV', 'LLJQU', 'WIEAP', 'ZXGTM', 'KPJOE', 'PJZWK',\n",
       "       'LUTMM', 'SMWQJ', 'VYSHG', 'NGIQF', 'QEZTQ', 'YRYQU', 'PKINJ',\n",
       "       'OUQBZ', 'XGIOW', 'CAGTD', 'IZAGF', 'TFVLT', 'ZIAVV', 'AATFJ',\n",
       "       'HMPXL', 'LCSNZ', 'DWAYF', 'ATRIL', 'XGMGK', 'FZFPV', 'ETSQN',\n",
       "       'SUHAB', 'NTBUU', 'UEQCN', 'JKUUT', 'GWBKE', 'KVXIP', 'PTKIU',\n",
       "       'COZYF', 'DQIRW', 'MTONV', 'FTNYE', 'VVYZD', 'SYDFX', 'PJVXD',\n",
       "       'VYNII', 'ZDULQ', 'RZCAB', 'TAYED', 'NMZPA', 'KUECW', 'MUSXH',\n",
       "       'BGNAB', 'TZMER', 'XWJNM', 'RBXOR', 'EREUG', 'SFCSP', 'JIIGM',\n",
       "       'VAUBQ', 'YYCAU', 'JEYEY', 'QEDKA', 'XKEKS', 'YCCLG', 'IOKVP',\n",
       "       'PRQCC', 'KOMYM', 'RPRNQ', 'CHEUM', 'QKECE', 'EBMUS', 'DVCQI',\n",
       "       'SJLVX', 'PMSKX', 'VTOQL', 'HYQBX', 'MZLKZ', 'QAHSC', 'PDLNY',\n",
       "       'THRAQ', 'QDBSL', 'BLFKI', 'PPYNA', 'ZUYHU', 'UPXXL', 'VZZXF',\n",
       "       'BYXPQ', 'VFMWJ', 'VSPGA', 'WOTTV', 'FTOKS', 'KNSYU', 'EQNMH',\n",
       "       'LMJHG', 'IHRSL', 'OHTKT', 'UEKHE', 'YIRFR', 'WWTDO', 'PGWFT',\n",
       "       'LTHWZ', 'CRPGJ', 'MIQGL', 'NKXAB', 'GGTFR', 'OCIQJ', 'WPNKV',\n",
       "       'XWWMB', 'DBKFY', 'ITXRO', 'JRNPL', 'HVCXC', 'ZUCQA', 'VSQKX',\n",
       "       'TDSHA', 'BZDXJ', 'CSMWE', 'YSTQG', 'IJFFS', 'HEEHI', 'PZJEX',\n",
       "       'TIGCE', 'VNFGS', 'ALRVP', 'VEYXI', 'CXWTW', 'IZTXH', 'AEGXS',\n",
       "       'VANEE', 'PRBQK', 'HVFOK', 'VOHUU', 'XIVWG', 'DLPIL', 'RSJGJ',\n",
       "       'RMCFM', 'DSUDQ', 'EWOEN', 'IXRGY', 'ZFXCI', 'OKMQB', 'LMXXM',\n",
       "       'REYWW', 'RSEUB', 'JTOQY', 'SNGOG', 'MCDRM', 'DQVOX', 'UFBGH',\n",
       "       'HDTMN', 'CRGQG', 'GPCGD', 'QETGR', 'SQUTN', 'TMUIV', 'ZPUUT',\n",
       "       'ZALLY', 'ZGWUB', 'GOGQV', 'GAEHO', 'PCTIU', 'JMKXX', 'VWJVC',\n",
       "       'TDPLT', 'TUCHE', 'NHAPJ', 'EQULX', 'VEDQK', 'KVXCL', 'ZGGJQ',\n",
       "       'WNUXX', 'MMBEO', 'CJUVE', 'QGTPL', 'ESESN', 'IXGDF', 'EORNF',\n",
       "       'BJYPS', 'CVLUD', 'DPHQB', 'AWVZS', 'COIXS', 'IWRZM', 'FHUDV',\n",
       "       'SXYQF', 'PUUHA', 'HEWTV', 'YEUEY', 'ZSTFC', 'DIDIT', 'OSYIS',\n",
       "       'NBWCE', 'OBLKI', 'UNMAJ', 'UHGYC', 'SXEHQ', 'GOKAY', 'INSQR',\n",
       "       'EWKWS', 'URMGJ', 'DOUUI', 'HZUIY', 'JCLEO', 'AMUOB', 'UYYJQ',\n",
       "       'TYNOT', 'SXQGF', 'AIDMW', 'IGPPI', 'QMETP', 'IFWAG', 'KIWWD',\n",
       "       'VANJK', 'TXGKN', 'YEUDH', 'LYXPO', 'FVLNN', 'NLSDC', 'RZOED',\n",
       "       'AZQWM', 'UPHMU', 'XDNBV', 'JTFJI', 'QDRVV', 'KAEAC', 'KYKOG',\n",
       "       'HLVSO', 'IRFOM', 'ADADK', 'XGJRD', 'QYJCD', 'RTJXB', 'HDVFO',\n",
       "       'FFOIW', 'FOWSA', 'RMADD', 'JCUYM', 'GIXMH', 'OUTQR', 'LFNUZ',\n",
       "       'ASNTH', 'JLQKP', 'UYXOX', 'WILIY', 'FFHOK', 'UALPT', 'ZWJVH',\n",
       "       'ADOXQ', 'FGMWT', 'KREBP', 'NOZOL', 'AGSGC', 'PEVCX', 'QWVRM',\n",
       "       'TIGCN', 'ARPWX', 'KXAGT', 'JYYZN', 'OWQWJ', 'CBCLM', 'UNMZU',\n",
       "       'WYUYH', 'JPMRA', 'UNUJV', 'PEMVN', 'MWYSX', 'TJPRL', 'JNSUY',\n",
       "       'FLBNO', 'OJCVH', 'KHMAT', 'KEFPC', 'YDFTB', 'HUFAU', 'QVNVN',\n",
       "       'FJMOJ', 'RBFPF', 'DVDPX', 'JXZJJ', 'MBSIK', 'YOCBY', 'UWJHO',\n",
       "       'UJRGM', 'CNBBZ', 'CLAJJ', 'BABTB', 'ETFPU', 'CSEAX', 'REZDC',\n",
       "       'WCTYV', 'DGDPN', 'CDPWO', 'QXFRD', 'ELXNQ', 'ECUQB', 'XRHDX',\n",
       "       'ZMLQK', 'RWSRM', 'JHSWC', 'ETMYL', 'XJLQL', 'AAAEI', 'XVWGU',\n",
       "       'EFDPX', 'PVEII', 'EBFVL', 'XKGUD', 'QZPEU', 'IKGUD', 'TVWHL',\n",
       "       'ZMYDI', 'YMRLB', 'UKHMB', 'YNRIY', 'ZFIBX', 'IXCKU', 'NAYVI',\n",
       "       'HUYWF', 'ILQUD', 'FPGST', 'SCNJW', 'VBIAA', 'ZTFKF', 'MHSRG',\n",
       "       'BURYG', 'ORVOS', 'TKLLD', 'YZANL', 'FPHXV', 'XUZXX', 'UMYTA',\n",
       "       'VGTXP', 'NYMFE', 'VNMOX', 'XUXGI', 'CWFSA', 'JXFDE', 'IFMIQ',\n",
       "       'UNKRX', 'NPODI', 'TKIIX', 'JMTQA', 'PUQQG', 'NIXUY', 'NXBAN',\n",
       "       'RCZIW', 'ZAAPV', 'ZMRLR', 'PQORX', 'XWPSF', 'ZSYAT', 'LGJNC',\n",
       "       'HDFZT', 'OUEPK', 'OWEPZ', 'IPKWQ', 'XZHYB', 'LQIMR', 'UTDJE',\n",
       "       'QEECK', 'GBAPP', 'CSQBE', 'UOSES', 'ICJLE', 'OLBKD', 'DTVDJ',\n",
       "       'VJSLF', 'YAVYP', 'MMUGC', 'NIPNV', 'PMENZ', 'GYNUY', 'GICZE',\n",
       "       'OKLJZ', 'ZOKHF', 'OEWKZ', 'HPEDR', 'STOXK', 'FCVKF'], \n",
       "      dtype='<U5')"
      ]
     },
     "execution_count": 75,
     "metadata": {},
     "output_type": "execute_result"
    }
   ],
   "source": [
    "tickers"
   ]
  },
  {
   "cell_type": "code",
   "execution_count": 76,
   "metadata": {
    "collapsed": false
   },
   "outputs": [],
   "source": [
    "M = 500\n",
    "df = DataFrame({'Momentum' : np.random.randn(M) / 200 + 0.03,\n",
    "                'Value' : np.random.randn(M) / 200 + 0.08,\n",
    "                'ShortInterest' : np.random.randn(M) / 200 - 0.02},\n",
    "                index=tickers[:M])"
   ]
  },
  {
   "cell_type": "code",
   "execution_count": 77,
   "metadata": {
    "collapsed": false
   },
   "outputs": [
    {
     "data": {
      "text/html": [
       "<div>\n",
       "<table border=\"1\" class=\"dataframe\">\n",
       "  <thead>\n",
       "    <tr style=\"text-align: right;\">\n",
       "      <th></th>\n",
       "      <th>Momentum</th>\n",
       "      <th>ShortInterest</th>\n",
       "      <th>Value</th>\n",
       "    </tr>\n",
       "  </thead>\n",
       "  <tbody>\n",
       "    <tr>\n",
       "      <th>MYNBI</th>\n",
       "      <td>0.028976</td>\n",
       "      <td>-0.024918</td>\n",
       "      <td>0.076191</td>\n",
       "    </tr>\n",
       "    <tr>\n",
       "      <th>QPMZJ</th>\n",
       "      <td>0.032395</td>\n",
       "      <td>-0.015345</td>\n",
       "      <td>0.078342</td>\n",
       "    </tr>\n",
       "    <tr>\n",
       "      <th>PLSGQ</th>\n",
       "      <td>0.027403</td>\n",
       "      <td>-0.024058</td>\n",
       "      <td>0.071243</td>\n",
       "    </tr>\n",
       "    <tr>\n",
       "      <th>EJEYD</th>\n",
       "      <td>0.027221</td>\n",
       "      <td>-0.029151</td>\n",
       "      <td>0.083144</td>\n",
       "    </tr>\n",
       "    <tr>\n",
       "      <th>TZIRW</th>\n",
       "      <td>0.039829</td>\n",
       "      <td>-0.020694</td>\n",
       "      <td>0.081413</td>\n",
       "    </tr>\n",
       "    <tr>\n",
       "      <th>ZTEJD</th>\n",
       "      <td>0.036967</td>\n",
       "      <td>-0.018330</td>\n",
       "      <td>0.073309</td>\n",
       "    </tr>\n",
       "    <tr>\n",
       "      <th>XCVKP</th>\n",
       "      <td>0.030465</td>\n",
       "      <td>-0.017557</td>\n",
       "      <td>0.077497</td>\n",
       "    </tr>\n",
       "    <tr>\n",
       "      <th>RDLNK</th>\n",
       "      <td>0.031409</td>\n",
       "      <td>-0.020890</td>\n",
       "      <td>0.080608</td>\n",
       "    </tr>\n",
       "    <tr>\n",
       "      <th>TUGRP</th>\n",
       "      <td>0.033845</td>\n",
       "      <td>-0.009388</td>\n",
       "      <td>0.088542</td>\n",
       "    </tr>\n",
       "    <tr>\n",
       "      <th>OQIBZ</th>\n",
       "      <td>0.036232</td>\n",
       "      <td>-0.019694</td>\n",
       "      <td>0.075145</td>\n",
       "    </tr>\n",
       "    <tr>\n",
       "      <th>RACXM</th>\n",
       "      <td>0.035036</td>\n",
       "      <td>-0.015579</td>\n",
       "      <td>0.076903</td>\n",
       "    </tr>\n",
       "    <tr>\n",
       "      <th>WZVUA</th>\n",
       "      <td>0.023519</td>\n",
       "      <td>-0.023043</td>\n",
       "      <td>0.076366</td>\n",
       "    </tr>\n",
       "    <tr>\n",
       "      <th>TPKHX</th>\n",
       "      <td>0.031375</td>\n",
       "      <td>-0.020360</td>\n",
       "      <td>0.086108</td>\n",
       "    </tr>\n",
       "    <tr>\n",
       "      <th>KWCGS</th>\n",
       "      <td>0.031145</td>\n",
       "      <td>-0.017280</td>\n",
       "      <td>0.082518</td>\n",
       "    </tr>\n",
       "    <tr>\n",
       "      <th>HHZEZ</th>\n",
       "      <td>0.036765</td>\n",
       "      <td>-0.018381</td>\n",
       "      <td>0.073061</td>\n",
       "    </tr>\n",
       "    <tr>\n",
       "      <th>ROCCK</th>\n",
       "      <td>0.034432</td>\n",
       "      <td>-0.028417</td>\n",
       "      <td>0.081024</td>\n",
       "    </tr>\n",
       "    <tr>\n",
       "      <th>QPDJR</th>\n",
       "      <td>0.019992</td>\n",
       "      <td>-0.017366</td>\n",
       "      <td>0.083019</td>\n",
       "    </tr>\n",
       "    <tr>\n",
       "      <th>JWDRK</th>\n",
       "      <td>0.028141</td>\n",
       "      <td>-0.010706</td>\n",
       "      <td>0.082728</td>\n",
       "    </tr>\n",
       "    <tr>\n",
       "      <th>RGZTR</th>\n",
       "      <td>0.038345</td>\n",
       "      <td>-0.022742</td>\n",
       "      <td>0.081177</td>\n",
       "    </tr>\n",
       "    <tr>\n",
       "      <th>SJOCT</th>\n",
       "      <td>0.027807</td>\n",
       "      <td>-0.021397</td>\n",
       "      <td>0.080559</td>\n",
       "    </tr>\n",
       "    <tr>\n",
       "      <th>ZMKSH</th>\n",
       "      <td>0.027301</td>\n",
       "      <td>-0.020106</td>\n",
       "      <td>0.073742</td>\n",
       "    </tr>\n",
       "    <tr>\n",
       "      <th>JFGFB</th>\n",
       "      <td>0.032385</td>\n",
       "      <td>-0.021440</td>\n",
       "      <td>0.065253</td>\n",
       "    </tr>\n",
       "    <tr>\n",
       "      <th>TVIPC</th>\n",
       "      <td>0.046245</td>\n",
       "      <td>-0.019554</td>\n",
       "      <td>0.083173</td>\n",
       "    </tr>\n",
       "    <tr>\n",
       "      <th>CVYEE</th>\n",
       "      <td>0.024894</td>\n",
       "      <td>-0.017386</td>\n",
       "      <td>0.080621</td>\n",
       "    </tr>\n",
       "    <tr>\n",
       "      <th>BCWRV</th>\n",
       "      <td>0.027115</td>\n",
       "      <td>-0.017136</td>\n",
       "      <td>0.086488</td>\n",
       "    </tr>\n",
       "    <tr>\n",
       "      <th>MWQIQ</th>\n",
       "      <td>0.030621</td>\n",
       "      <td>-0.028802</td>\n",
       "      <td>0.071565</td>\n",
       "    </tr>\n",
       "    <tr>\n",
       "      <th>ZHGVS</th>\n",
       "      <td>0.031513</td>\n",
       "      <td>-0.014359</td>\n",
       "      <td>0.085448</td>\n",
       "    </tr>\n",
       "    <tr>\n",
       "      <th>NSIOP</th>\n",
       "      <td>0.032619</td>\n",
       "      <td>-0.012157</td>\n",
       "      <td>0.090304</td>\n",
       "    </tr>\n",
       "    <tr>\n",
       "      <th>VUWZL</th>\n",
       "      <td>0.030005</td>\n",
       "      <td>-0.021711</td>\n",
       "      <td>0.078794</td>\n",
       "    </tr>\n",
       "    <tr>\n",
       "      <th>CKTDP</th>\n",
       "      <td>0.036719</td>\n",
       "      <td>-0.020049</td>\n",
       "      <td>0.075261</td>\n",
       "    </tr>\n",
       "    <tr>\n",
       "      <th>SUKGH</th>\n",
       "      <td>0.026432</td>\n",
       "      <td>-0.019735</td>\n",
       "      <td>0.083381</td>\n",
       "    </tr>\n",
       "    <tr>\n",
       "      <th>AXIDW</th>\n",
       "      <td>0.025844</td>\n",
       "      <td>-0.020210</td>\n",
       "      <td>0.076733</td>\n",
       "    </tr>\n",
       "    <tr>\n",
       "      <th>HLZFK</th>\n",
       "      <td>0.018149</td>\n",
       "      <td>-0.028472</td>\n",
       "      <td>0.076739</td>\n",
       "    </tr>\n",
       "    <tr>\n",
       "      <th>NBDZE</th>\n",
       "      <td>0.020696</td>\n",
       "      <td>-0.021812</td>\n",
       "      <td>0.082644</td>\n",
       "    </tr>\n",
       "    <tr>\n",
       "      <th>WHBSU</th>\n",
       "      <td>0.025696</td>\n",
       "      <td>-0.014363</td>\n",
       "      <td>0.081789</td>\n",
       "    </tr>\n",
       "    <tr>\n",
       "      <th>RTVCA</th>\n",
       "      <td>0.032801</td>\n",
       "      <td>-0.009081</td>\n",
       "      <td>0.080943</td>\n",
       "    </tr>\n",
       "    <tr>\n",
       "      <th>DUGTS</th>\n",
       "      <td>0.023670</td>\n",
       "      <td>-0.025933</td>\n",
       "      <td>0.084347</td>\n",
       "    </tr>\n",
       "    <tr>\n",
       "      <th>DMCLD</th>\n",
       "      <td>0.030599</td>\n",
       "      <td>-0.018329</td>\n",
       "      <td>0.079747</td>\n",
       "    </tr>\n",
       "    <tr>\n",
       "      <th>BTAGF</th>\n",
       "      <td>0.024682</td>\n",
       "      <td>-0.025142</td>\n",
       "      <td>0.076418</td>\n",
       "    </tr>\n",
       "    <tr>\n",
       "      <th>WDPGX</th>\n",
       "      <td>0.031664</td>\n",
       "      <td>-0.020842</td>\n",
       "      <td>0.079484</td>\n",
       "    </tr>\n",
       "    <tr>\n",
       "      <th>ZBVAR</th>\n",
       "      <td>0.018203</td>\n",
       "      <td>-0.024995</td>\n",
       "      <td>0.074295</td>\n",
       "    </tr>\n",
       "    <tr>\n",
       "      <th>NTDIC</th>\n",
       "      <td>0.029002</td>\n",
       "      <td>-0.027656</td>\n",
       "      <td>0.077496</td>\n",
       "    </tr>\n",
       "    <tr>\n",
       "      <th>HCUJL</th>\n",
       "      <td>0.022290</td>\n",
       "      <td>-0.025396</td>\n",
       "      <td>0.078053</td>\n",
       "    </tr>\n",
       "    <tr>\n",
       "      <th>NFBQO</th>\n",
       "      <td>0.025146</td>\n",
       "      <td>-0.025489</td>\n",
       "      <td>0.077631</td>\n",
       "    </tr>\n",
       "    <tr>\n",
       "      <th>BTDWM</th>\n",
       "      <td>0.023465</td>\n",
       "      <td>-0.017974</td>\n",
       "      <td>0.080643</td>\n",
       "    </tr>\n",
       "    <tr>\n",
       "      <th>GILXP</th>\n",
       "      <td>0.031432</td>\n",
       "      <td>-0.021136</td>\n",
       "      <td>0.080768</td>\n",
       "    </tr>\n",
       "    <tr>\n",
       "      <th>SFWVG</th>\n",
       "      <td>0.031890</td>\n",
       "      <td>-0.027214</td>\n",
       "      <td>0.082224</td>\n",
       "    </tr>\n",
       "    <tr>\n",
       "      <th>YBZVF</th>\n",
       "      <td>0.026231</td>\n",
       "      <td>-0.027113</td>\n",
       "      <td>0.080643</td>\n",
       "    </tr>\n",
       "    <tr>\n",
       "      <th>FKQID</th>\n",
       "      <td>0.031656</td>\n",
       "      <td>-0.025616</td>\n",
       "      <td>0.081263</td>\n",
       "    </tr>\n",
       "    <tr>\n",
       "      <th>TOVFA</th>\n",
       "      <td>0.036749</td>\n",
       "      <td>-0.018919</td>\n",
       "      <td>0.075297</td>\n",
       "    </tr>\n",
       "    <tr>\n",
       "      <th>...</th>\n",
       "      <td>...</td>\n",
       "      <td>...</td>\n",
       "      <td>...</td>\n",
       "    </tr>\n",
       "    <tr>\n",
       "      <th>UWQDW</th>\n",
       "      <td>0.025448</td>\n",
       "      <td>-0.020863</td>\n",
       "      <td>0.075189</td>\n",
       "    </tr>\n",
       "    <tr>\n",
       "      <th>YUWGT</th>\n",
       "      <td>0.028902</td>\n",
       "      <td>-0.016599</td>\n",
       "      <td>0.087628</td>\n",
       "    </tr>\n",
       "    <tr>\n",
       "      <th>UTQDI</th>\n",
       "      <td>0.032040</td>\n",
       "      <td>-0.011962</td>\n",
       "      <td>0.084136</td>\n",
       "    </tr>\n",
       "    <tr>\n",
       "      <th>WXTFM</th>\n",
       "      <td>0.026984</td>\n",
       "      <td>-0.018998</td>\n",
       "      <td>0.084562</td>\n",
       "    </tr>\n",
       "    <tr>\n",
       "      <th>CZBAD</th>\n",
       "      <td>0.028194</td>\n",
       "      <td>-0.024170</td>\n",
       "      <td>0.079364</td>\n",
       "    </tr>\n",
       "    <tr>\n",
       "      <th>LXPKD</th>\n",
       "      <td>0.032820</td>\n",
       "      <td>-0.021515</td>\n",
       "      <td>0.083172</td>\n",
       "    </tr>\n",
       "    <tr>\n",
       "      <th>VOLSW</th>\n",
       "      <td>0.024717</td>\n",
       "      <td>-0.011684</td>\n",
       "      <td>0.072346</td>\n",
       "    </tr>\n",
       "    <tr>\n",
       "      <th>IVPZY</th>\n",
       "      <td>0.036960</td>\n",
       "      <td>-0.024981</td>\n",
       "      <td>0.073546</td>\n",
       "    </tr>\n",
       "    <tr>\n",
       "      <th>HFRRC</th>\n",
       "      <td>0.021194</td>\n",
       "      <td>-0.012391</td>\n",
       "      <td>0.077369</td>\n",
       "    </tr>\n",
       "    <tr>\n",
       "      <th>YQFAU</th>\n",
       "      <td>0.025442</td>\n",
       "      <td>-0.018779</td>\n",
       "      <td>0.074339</td>\n",
       "    </tr>\n",
       "    <tr>\n",
       "      <th>FQNTV</th>\n",
       "      <td>0.033292</td>\n",
       "      <td>-0.017883</td>\n",
       "      <td>0.077501</td>\n",
       "    </tr>\n",
       "    <tr>\n",
       "      <th>GOWVM</th>\n",
       "      <td>0.022103</td>\n",
       "      <td>-0.023270</td>\n",
       "      <td>0.076358</td>\n",
       "    </tr>\n",
       "    <tr>\n",
       "      <th>IASEM</th>\n",
       "      <td>0.032289</td>\n",
       "      <td>-0.009554</td>\n",
       "      <td>0.077084</td>\n",
       "    </tr>\n",
       "    <tr>\n",
       "      <th>FOSBM</th>\n",
       "      <td>0.029084</td>\n",
       "      <td>-0.020301</td>\n",
       "      <td>0.081646</td>\n",
       "    </tr>\n",
       "    <tr>\n",
       "      <th>ZCUSM</th>\n",
       "      <td>0.026573</td>\n",
       "      <td>-0.020840</td>\n",
       "      <td>0.075866</td>\n",
       "    </tr>\n",
       "    <tr>\n",
       "      <th>KHQOB</th>\n",
       "      <td>0.030532</td>\n",
       "      <td>-0.016842</td>\n",
       "      <td>0.077316</td>\n",
       "    </tr>\n",
       "    <tr>\n",
       "      <th>PTDIQ</th>\n",
       "      <td>0.028409</td>\n",
       "      <td>-0.027972</td>\n",
       "      <td>0.077185</td>\n",
       "    </tr>\n",
       "    <tr>\n",
       "      <th>PRUMP</th>\n",
       "      <td>0.032169</td>\n",
       "      <td>-0.027600</td>\n",
       "      <td>0.084592</td>\n",
       "    </tr>\n",
       "    <tr>\n",
       "      <th>IFHRL</th>\n",
       "      <td>0.032859</td>\n",
       "      <td>-0.014456</td>\n",
       "      <td>0.079603</td>\n",
       "    </tr>\n",
       "    <tr>\n",
       "      <th>FJTEO</th>\n",
       "      <td>0.032836</td>\n",
       "      <td>-0.013721</td>\n",
       "      <td>0.078607</td>\n",
       "    </tr>\n",
       "    <tr>\n",
       "      <th>CCPMS</th>\n",
       "      <td>0.030408</td>\n",
       "      <td>-0.020122</td>\n",
       "      <td>0.079348</td>\n",
       "    </tr>\n",
       "    <tr>\n",
       "      <th>NRCIP</th>\n",
       "      <td>0.028488</td>\n",
       "      <td>-0.030240</td>\n",
       "      <td>0.073015</td>\n",
       "    </tr>\n",
       "    <tr>\n",
       "      <th>HDJEL</th>\n",
       "      <td>0.026365</td>\n",
       "      <td>-0.021363</td>\n",
       "      <td>0.078776</td>\n",
       "    </tr>\n",
       "    <tr>\n",
       "      <th>ZDEVB</th>\n",
       "      <td>0.030902</td>\n",
       "      <td>-0.028463</td>\n",
       "      <td>0.084151</td>\n",
       "    </tr>\n",
       "    <tr>\n",
       "      <th>VESRG</th>\n",
       "      <td>0.027399</td>\n",
       "      <td>-0.012881</td>\n",
       "      <td>0.081204</td>\n",
       "    </tr>\n",
       "    <tr>\n",
       "      <th>ABMRW</th>\n",
       "      <td>0.031990</td>\n",
       "      <td>-0.022039</td>\n",
       "      <td>0.075422</td>\n",
       "    </tr>\n",
       "    <tr>\n",
       "      <th>YTPWW</th>\n",
       "      <td>0.025415</td>\n",
       "      <td>-0.016218</td>\n",
       "      <td>0.068874</td>\n",
       "    </tr>\n",
       "    <tr>\n",
       "      <th>DPRLY</th>\n",
       "      <td>0.029587</td>\n",
       "      <td>-0.026443</td>\n",
       "      <td>0.076685</td>\n",
       "    </tr>\n",
       "    <tr>\n",
       "      <th>KDVAH</th>\n",
       "      <td>0.020302</td>\n",
       "      <td>-0.015662</td>\n",
       "      <td>0.078394</td>\n",
       "    </tr>\n",
       "    <tr>\n",
       "      <th>HPJIH</th>\n",
       "      <td>0.037040</td>\n",
       "      <td>-0.017124</td>\n",
       "      <td>0.082492</td>\n",
       "    </tr>\n",
       "    <tr>\n",
       "      <th>APLQK</th>\n",
       "      <td>0.037562</td>\n",
       "      <td>-0.018479</td>\n",
       "      <td>0.081902</td>\n",
       "    </tr>\n",
       "    <tr>\n",
       "      <th>CCJSN</th>\n",
       "      <td>0.032632</td>\n",
       "      <td>-0.010927</td>\n",
       "      <td>0.074665</td>\n",
       "    </tr>\n",
       "    <tr>\n",
       "      <th>HXLMY</th>\n",
       "      <td>0.028665</td>\n",
       "      <td>-0.011826</td>\n",
       "      <td>0.081277</td>\n",
       "    </tr>\n",
       "    <tr>\n",
       "      <th>EHJGX</th>\n",
       "      <td>0.034311</td>\n",
       "      <td>-0.028228</td>\n",
       "      <td>0.090556</td>\n",
       "    </tr>\n",
       "    <tr>\n",
       "      <th>YPVZL</th>\n",
       "      <td>0.030419</td>\n",
       "      <td>-0.022036</td>\n",
       "      <td>0.076829</td>\n",
       "    </tr>\n",
       "    <tr>\n",
       "      <th>JMTEY</th>\n",
       "      <td>0.020638</td>\n",
       "      <td>-0.021264</td>\n",
       "      <td>0.086844</td>\n",
       "    </tr>\n",
       "    <tr>\n",
       "      <th>DMLQP</th>\n",
       "      <td>0.025186</td>\n",
       "      <td>-0.024473</td>\n",
       "      <td>0.075147</td>\n",
       "    </tr>\n",
       "    <tr>\n",
       "      <th>HUWLU</th>\n",
       "      <td>0.030400</td>\n",
       "      <td>-0.015221</td>\n",
       "      <td>0.083271</td>\n",
       "    </tr>\n",
       "    <tr>\n",
       "      <th>LNILM</th>\n",
       "      <td>0.030644</td>\n",
       "      <td>-0.028270</td>\n",
       "      <td>0.074141</td>\n",
       "    </tr>\n",
       "    <tr>\n",
       "      <th>YYWJD</th>\n",
       "      <td>0.027604</td>\n",
       "      <td>-0.021313</td>\n",
       "      <td>0.079984</td>\n",
       "    </tr>\n",
       "    <tr>\n",
       "      <th>PJDOE</th>\n",
       "      <td>0.026799</td>\n",
       "      <td>-0.024880</td>\n",
       "      <td>0.076272</td>\n",
       "    </tr>\n",
       "    <tr>\n",
       "      <th>LHXFK</th>\n",
       "      <td>0.033730</td>\n",
       "      <td>-0.027467</td>\n",
       "      <td>0.087991</td>\n",
       "    </tr>\n",
       "    <tr>\n",
       "      <th>PHDVM</th>\n",
       "      <td>0.026887</td>\n",
       "      <td>-0.014161</td>\n",
       "      <td>0.075433</td>\n",
       "    </tr>\n",
       "    <tr>\n",
       "      <th>MOQOS</th>\n",
       "      <td>0.034681</td>\n",
       "      <td>-0.015155</td>\n",
       "      <td>0.092015</td>\n",
       "    </tr>\n",
       "    <tr>\n",
       "      <th>THVMQ</th>\n",
       "      <td>0.033750</td>\n",
       "      <td>-0.032682</td>\n",
       "      <td>0.077053</td>\n",
       "    </tr>\n",
       "    <tr>\n",
       "      <th>JPHKQ</th>\n",
       "      <td>0.029716</td>\n",
       "      <td>-0.018186</td>\n",
       "      <td>0.080538</td>\n",
       "    </tr>\n",
       "    <tr>\n",
       "      <th>VACPK</th>\n",
       "      <td>0.041503</td>\n",
       "      <td>-0.025981</td>\n",
       "      <td>0.079304</td>\n",
       "    </tr>\n",
       "    <tr>\n",
       "      <th>MHNBS</th>\n",
       "      <td>0.032847</td>\n",
       "      <td>-0.011815</td>\n",
       "      <td>0.074200</td>\n",
       "    </tr>\n",
       "    <tr>\n",
       "      <th>YBNCI</th>\n",
       "      <td>0.037447</td>\n",
       "      <td>-0.018743</td>\n",
       "      <td>0.083095</td>\n",
       "    </tr>\n",
       "    <tr>\n",
       "      <th>GXKFD</th>\n",
       "      <td>0.036321</td>\n",
       "      <td>-0.011877</td>\n",
       "      <td>0.086869</td>\n",
       "    </tr>\n",
       "  </tbody>\n",
       "</table>\n",
       "<p>500 rows × 3 columns</p>\n",
       "</div>"
      ],
      "text/plain": [
       "       Momentum  ShortInterest     Value\n",
       "MYNBI  0.028976      -0.024918  0.076191\n",
       "QPMZJ  0.032395      -0.015345  0.078342\n",
       "PLSGQ  0.027403      -0.024058  0.071243\n",
       "EJEYD  0.027221      -0.029151  0.083144\n",
       "TZIRW  0.039829      -0.020694  0.081413\n",
       "ZTEJD  0.036967      -0.018330  0.073309\n",
       "XCVKP  0.030465      -0.017557  0.077497\n",
       "RDLNK  0.031409      -0.020890  0.080608\n",
       "TUGRP  0.033845      -0.009388  0.088542\n",
       "OQIBZ  0.036232      -0.019694  0.075145\n",
       "RACXM  0.035036      -0.015579  0.076903\n",
       "WZVUA  0.023519      -0.023043  0.076366\n",
       "TPKHX  0.031375      -0.020360  0.086108\n",
       "KWCGS  0.031145      -0.017280  0.082518\n",
       "HHZEZ  0.036765      -0.018381  0.073061\n",
       "ROCCK  0.034432      -0.028417  0.081024\n",
       "QPDJR  0.019992      -0.017366  0.083019\n",
       "JWDRK  0.028141      -0.010706  0.082728\n",
       "RGZTR  0.038345      -0.022742  0.081177\n",
       "SJOCT  0.027807      -0.021397  0.080559\n",
       "ZMKSH  0.027301      -0.020106  0.073742\n",
       "JFGFB  0.032385      -0.021440  0.065253\n",
       "TVIPC  0.046245      -0.019554  0.083173\n",
       "CVYEE  0.024894      -0.017386  0.080621\n",
       "BCWRV  0.027115      -0.017136  0.086488\n",
       "MWQIQ  0.030621      -0.028802  0.071565\n",
       "ZHGVS  0.031513      -0.014359  0.085448\n",
       "NSIOP  0.032619      -0.012157  0.090304\n",
       "VUWZL  0.030005      -0.021711  0.078794\n",
       "CKTDP  0.036719      -0.020049  0.075261\n",
       "SUKGH  0.026432      -0.019735  0.083381\n",
       "AXIDW  0.025844      -0.020210  0.076733\n",
       "HLZFK  0.018149      -0.028472  0.076739\n",
       "NBDZE  0.020696      -0.021812  0.082644\n",
       "WHBSU  0.025696      -0.014363  0.081789\n",
       "RTVCA  0.032801      -0.009081  0.080943\n",
       "DUGTS  0.023670      -0.025933  0.084347\n",
       "DMCLD  0.030599      -0.018329  0.079747\n",
       "BTAGF  0.024682      -0.025142  0.076418\n",
       "WDPGX  0.031664      -0.020842  0.079484\n",
       "ZBVAR  0.018203      -0.024995  0.074295\n",
       "NTDIC  0.029002      -0.027656  0.077496\n",
       "HCUJL  0.022290      -0.025396  0.078053\n",
       "NFBQO  0.025146      -0.025489  0.077631\n",
       "BTDWM  0.023465      -0.017974  0.080643\n",
       "GILXP  0.031432      -0.021136  0.080768\n",
       "SFWVG  0.031890      -0.027214  0.082224\n",
       "YBZVF  0.026231      -0.027113  0.080643\n",
       "FKQID  0.031656      -0.025616  0.081263\n",
       "TOVFA  0.036749      -0.018919  0.075297\n",
       "...         ...            ...       ...\n",
       "UWQDW  0.025448      -0.020863  0.075189\n",
       "YUWGT  0.028902      -0.016599  0.087628\n",
       "UTQDI  0.032040      -0.011962  0.084136\n",
       "WXTFM  0.026984      -0.018998  0.084562\n",
       "CZBAD  0.028194      -0.024170  0.079364\n",
       "LXPKD  0.032820      -0.021515  0.083172\n",
       "VOLSW  0.024717      -0.011684  0.072346\n",
       "IVPZY  0.036960      -0.024981  0.073546\n",
       "HFRRC  0.021194      -0.012391  0.077369\n",
       "YQFAU  0.025442      -0.018779  0.074339\n",
       "FQNTV  0.033292      -0.017883  0.077501\n",
       "GOWVM  0.022103      -0.023270  0.076358\n",
       "IASEM  0.032289      -0.009554  0.077084\n",
       "FOSBM  0.029084      -0.020301  0.081646\n",
       "ZCUSM  0.026573      -0.020840  0.075866\n",
       "KHQOB  0.030532      -0.016842  0.077316\n",
       "PTDIQ  0.028409      -0.027972  0.077185\n",
       "PRUMP  0.032169      -0.027600  0.084592\n",
       "IFHRL  0.032859      -0.014456  0.079603\n",
       "FJTEO  0.032836      -0.013721  0.078607\n",
       "CCPMS  0.030408      -0.020122  0.079348\n",
       "NRCIP  0.028488      -0.030240  0.073015\n",
       "HDJEL  0.026365      -0.021363  0.078776\n",
       "ZDEVB  0.030902      -0.028463  0.084151\n",
       "VESRG  0.027399      -0.012881  0.081204\n",
       "ABMRW  0.031990      -0.022039  0.075422\n",
       "YTPWW  0.025415      -0.016218  0.068874\n",
       "DPRLY  0.029587      -0.026443  0.076685\n",
       "KDVAH  0.020302      -0.015662  0.078394\n",
       "HPJIH  0.037040      -0.017124  0.082492\n",
       "APLQK  0.037562      -0.018479  0.081902\n",
       "CCJSN  0.032632      -0.010927  0.074665\n",
       "HXLMY  0.028665      -0.011826  0.081277\n",
       "EHJGX  0.034311      -0.028228  0.090556\n",
       "YPVZL  0.030419      -0.022036  0.076829\n",
       "JMTEY  0.020638      -0.021264  0.086844\n",
       "DMLQP  0.025186      -0.024473  0.075147\n",
       "HUWLU  0.030400      -0.015221  0.083271\n",
       "LNILM  0.030644      -0.028270  0.074141\n",
       "YYWJD  0.027604      -0.021313  0.079984\n",
       "PJDOE  0.026799      -0.024880  0.076272\n",
       "LHXFK  0.033730      -0.027467  0.087991\n",
       "PHDVM  0.026887      -0.014161  0.075433\n",
       "MOQOS  0.034681      -0.015155  0.092015\n",
       "THVMQ  0.033750      -0.032682  0.077053\n",
       "JPHKQ  0.029716      -0.018186  0.080538\n",
       "VACPK  0.041503      -0.025981  0.079304\n",
       "MHNBS  0.032847      -0.011815  0.074200\n",
       "YBNCI  0.037447      -0.018743  0.083095\n",
       "GXKFD  0.036321      -0.011877  0.086869\n",
       "\n",
       "[500 rows x 3 columns]"
      ]
     },
     "execution_count": 77,
     "metadata": {},
     "output_type": "execute_result"
    }
   ],
   "source": [
    "df"
   ]
  },
  {
   "cell_type": "code",
   "execution_count": 78,
   "metadata": {
    "collapsed": false
   },
   "outputs": [],
   "source": [
    "ind_names = np.array(['FINANCIAL', 'TECH'])\n",
    "sampler = np.random.randint(0, len(ind_names), N)\n",
    "industries = Series(ind_names[sampler], index=tickers,\n",
    "                    name='industry')"
   ]
  },
  {
   "cell_type": "code",
   "execution_count": 83,
   "metadata": {
    "collapsed": false
   },
   "outputs": [
    {
     "data": {
      "text/plain": [
       "MYNBI    FINANCIAL\n",
       "QPMZJ    FINANCIAL\n",
       "PLSGQ    FINANCIAL\n",
       "EJEYD    FINANCIAL\n",
       "TZIRW         TECH\n",
       "Name: industry, dtype: object"
      ]
     },
     "execution_count": 83,
     "metadata": {},
     "output_type": "execute_result"
    }
   ],
   "source": [
    "industries[:5]"
   ]
  },
  {
   "cell_type": "code",
   "execution_count": 84,
   "metadata": {
    "collapsed": false
   },
   "outputs": [
    {
     "data": {
      "text/html": [
       "<div>\n",
       "<table border=\"1\" class=\"dataframe\">\n",
       "  <thead>\n",
       "    <tr style=\"text-align: right;\">\n",
       "      <th></th>\n",
       "      <th>Momentum</th>\n",
       "      <th>ShortInterest</th>\n",
       "      <th>Value</th>\n",
       "    </tr>\n",
       "    <tr>\n",
       "      <th>industry</th>\n",
       "      <th></th>\n",
       "      <th></th>\n",
       "      <th></th>\n",
       "    </tr>\n",
       "  </thead>\n",
       "  <tbody>\n",
       "    <tr>\n",
       "      <th>FINANCIAL</th>\n",
       "      <td>0.029485</td>\n",
       "      <td>-0.020739</td>\n",
       "      <td>0.079929</td>\n",
       "    </tr>\n",
       "    <tr>\n",
       "      <th>TECH</th>\n",
       "      <td>0.030407</td>\n",
       "      <td>-0.019609</td>\n",
       "      <td>0.080113</td>\n",
       "    </tr>\n",
       "  </tbody>\n",
       "</table>\n",
       "</div>"
      ],
      "text/plain": [
       "           Momentum  ShortInterest     Value\n",
       "industry                                    \n",
       "FINANCIAL  0.029485      -0.020739  0.079929\n",
       "TECH       0.030407      -0.019609  0.080113"
      ]
     },
     "execution_count": 84,
     "metadata": {},
     "output_type": "execute_result"
    }
   ],
   "source": [
    "by_industry = df.groupby(industries)\n",
    "by_industry.mean()"
   ]
  },
  {
   "cell_type": "code",
   "execution_count": 89,
   "metadata": {
    "collapsed": false
   },
   "outputs": [
    {
     "data": {
      "text/plain": [
       "<pandas.core.groupby.DataFrameGroupBy object at 0x11ad4ad68>"
      ]
     },
     "execution_count": 89,
     "metadata": {},
     "output_type": "execute_result"
    }
   ],
   "source": [
    "by_industry"
   ]
  },
  {
   "cell_type": "code",
   "execution_count": 85,
   "metadata": {
    "collapsed": false
   },
   "outputs": [
    {
     "data": {
      "text/html": [
       "<div>\n",
       "<table border=\"1\" class=\"dataframe\">\n",
       "  <thead>\n",
       "    <tr style=\"text-align: right;\">\n",
       "      <th></th>\n",
       "      <th></th>\n",
       "      <th>Momentum</th>\n",
       "      <th>ShortInterest</th>\n",
       "      <th>Value</th>\n",
       "    </tr>\n",
       "    <tr>\n",
       "      <th>industry</th>\n",
       "      <th></th>\n",
       "      <th></th>\n",
       "      <th></th>\n",
       "      <th></th>\n",
       "    </tr>\n",
       "  </thead>\n",
       "  <tbody>\n",
       "    <tr>\n",
       "      <th rowspan=\"8\" valign=\"top\">FINANCIAL</th>\n",
       "      <th>count</th>\n",
       "      <td>246.000000</td>\n",
       "      <td>246.000000</td>\n",
       "      <td>246.000000</td>\n",
       "    </tr>\n",
       "    <tr>\n",
       "      <th>mean</th>\n",
       "      <td>0.029485</td>\n",
       "      <td>-0.020739</td>\n",
       "      <td>0.079929</td>\n",
       "    </tr>\n",
       "    <tr>\n",
       "      <th>std</th>\n",
       "      <td>0.004802</td>\n",
       "      <td>0.004986</td>\n",
       "      <td>0.004548</td>\n",
       "    </tr>\n",
       "    <tr>\n",
       "      <th>min</th>\n",
       "      <td>0.017210</td>\n",
       "      <td>-0.036997</td>\n",
       "      <td>0.067025</td>\n",
       "    </tr>\n",
       "    <tr>\n",
       "      <th>25%</th>\n",
       "      <td>0.026263</td>\n",
       "      <td>-0.024138</td>\n",
       "      <td>0.076638</td>\n",
       "    </tr>\n",
       "    <tr>\n",
       "      <th>50%</th>\n",
       "      <td>0.029261</td>\n",
       "      <td>-0.020833</td>\n",
       "      <td>0.079804</td>\n",
       "    </tr>\n",
       "    <tr>\n",
       "      <th>75%</th>\n",
       "      <td>0.032806</td>\n",
       "      <td>-0.017345</td>\n",
       "      <td>0.082718</td>\n",
       "    </tr>\n",
       "    <tr>\n",
       "      <th>max</th>\n",
       "      <td>0.045884</td>\n",
       "      <td>-0.006322</td>\n",
       "      <td>0.093334</td>\n",
       "    </tr>\n",
       "    <tr>\n",
       "      <th rowspan=\"8\" valign=\"top\">TECH</th>\n",
       "      <th>count</th>\n",
       "      <td>254.000000</td>\n",
       "      <td>254.000000</td>\n",
       "      <td>254.000000</td>\n",
       "    </tr>\n",
       "    <tr>\n",
       "      <th>mean</th>\n",
       "      <td>0.030407</td>\n",
       "      <td>-0.019609</td>\n",
       "      <td>0.080113</td>\n",
       "    </tr>\n",
       "    <tr>\n",
       "      <th>std</th>\n",
       "      <td>0.005303</td>\n",
       "      <td>0.005074</td>\n",
       "      <td>0.004886</td>\n",
       "    </tr>\n",
       "    <tr>\n",
       "      <th>min</th>\n",
       "      <td>0.016778</td>\n",
       "      <td>-0.032682</td>\n",
       "      <td>0.065253</td>\n",
       "    </tr>\n",
       "    <tr>\n",
       "      <th>25%</th>\n",
       "      <td>0.026456</td>\n",
       "      <td>-0.022779</td>\n",
       "      <td>0.076737</td>\n",
       "    </tr>\n",
       "    <tr>\n",
       "      <th>50%</th>\n",
       "      <td>0.030650</td>\n",
       "      <td>-0.019829</td>\n",
       "      <td>0.080296</td>\n",
       "    </tr>\n",
       "    <tr>\n",
       "      <th>75%</th>\n",
       "      <td>0.033602</td>\n",
       "      <td>-0.016923</td>\n",
       "      <td>0.083353</td>\n",
       "    </tr>\n",
       "    <tr>\n",
       "      <th>max</th>\n",
       "      <td>0.049638</td>\n",
       "      <td>-0.003698</td>\n",
       "      <td>0.093081</td>\n",
       "    </tr>\n",
       "  </tbody>\n",
       "</table>\n",
       "</div>"
      ],
      "text/plain": [
       "                   Momentum  ShortInterest       Value\n",
       "industry                                              \n",
       "FINANCIAL count  246.000000     246.000000  246.000000\n",
       "          mean     0.029485      -0.020739    0.079929\n",
       "          std      0.004802       0.004986    0.004548\n",
       "          min      0.017210      -0.036997    0.067025\n",
       "          25%      0.026263      -0.024138    0.076638\n",
       "          50%      0.029261      -0.020833    0.079804\n",
       "          75%      0.032806      -0.017345    0.082718\n",
       "          max      0.045884      -0.006322    0.093334\n",
       "TECH      count  254.000000     254.000000  254.000000\n",
       "          mean     0.030407      -0.019609    0.080113\n",
       "          std      0.005303       0.005074    0.004886\n",
       "          min      0.016778      -0.032682    0.065253\n",
       "          25%      0.026456      -0.022779    0.076737\n",
       "          50%      0.030650      -0.019829    0.080296\n",
       "          75%      0.033602      -0.016923    0.083353\n",
       "          max      0.049638      -0.003698    0.093081"
      ]
     },
     "execution_count": 85,
     "metadata": {},
     "output_type": "execute_result"
    }
   ],
   "source": [
    "by_industry.describe()"
   ]
  },
  {
   "cell_type": "code",
   "execution_count": 86,
   "metadata": {
    "collapsed": false
   },
   "outputs": [],
   "source": [
    "# Within-Industry Standardize\n",
    "def zscore(group):\n",
    "    return (group - group.mean()) / group.std()\n",
    "\n",
    "df_stand = by_industry.apply(zscore)"
   ]
  },
  {
   "cell_type": "code",
   "execution_count": 87,
   "metadata": {
    "collapsed": false
   },
   "outputs": [
    {
     "data": {
      "text/html": [
       "<div>\n",
       "<table border=\"1\" class=\"dataframe\">\n",
       "  <thead>\n",
       "    <tr>\n",
       "      <th></th>\n",
       "      <th colspan=\"2\" halign=\"left\">Momentum</th>\n",
       "      <th colspan=\"2\" halign=\"left\">ShortInterest</th>\n",
       "      <th colspan=\"2\" halign=\"left\">Value</th>\n",
       "    </tr>\n",
       "    <tr>\n",
       "      <th></th>\n",
       "      <th>mean</th>\n",
       "      <th>std</th>\n",
       "      <th>mean</th>\n",
       "      <th>std</th>\n",
       "      <th>mean</th>\n",
       "      <th>std</th>\n",
       "    </tr>\n",
       "    <tr>\n",
       "      <th>industry</th>\n",
       "      <th></th>\n",
       "      <th></th>\n",
       "      <th></th>\n",
       "      <th></th>\n",
       "      <th></th>\n",
       "      <th></th>\n",
       "    </tr>\n",
       "  </thead>\n",
       "  <tbody>\n",
       "    <tr>\n",
       "      <th>FINANCIAL</th>\n",
       "      <td>1.114736e-15</td>\n",
       "      <td>1.0</td>\n",
       "      <td>3.081772e-15</td>\n",
       "      <td>1.0</td>\n",
       "      <td>8.001278e-15</td>\n",
       "      <td>1.0</td>\n",
       "    </tr>\n",
       "    <tr>\n",
       "      <th>TECH</th>\n",
       "      <td>-2.779929e-16</td>\n",
       "      <td>1.0</td>\n",
       "      <td>-1.924969e-15</td>\n",
       "      <td>1.0</td>\n",
       "      <td>-7.139521e-15</td>\n",
       "      <td>1.0</td>\n",
       "    </tr>\n",
       "  </tbody>\n",
       "</table>\n",
       "</div>"
      ],
      "text/plain": [
       "               Momentum      ShortInterest              Value     \n",
       "                   mean  std          mean  std          mean  std\n",
       "industry                                                          \n",
       "FINANCIAL  1.114736e-15  1.0  3.081772e-15  1.0  8.001278e-15  1.0\n",
       "TECH      -2.779929e-16  1.0 -1.924969e-15  1.0 -7.139521e-15  1.0"
      ]
     },
     "execution_count": 87,
     "metadata": {},
     "output_type": "execute_result"
    }
   ],
   "source": [
    "df_stand.groupby(industries).agg(['mean', 'std'])"
   ]
  },
  {
   "cell_type": "code",
   "execution_count": 88,
   "metadata": {
    "collapsed": false
   },
   "outputs": [
    {
     "data": {
      "text/html": [
       "<div>\n",
       "<table border=\"1\" class=\"dataframe\">\n",
       "  <thead>\n",
       "    <tr>\n",
       "      <th></th>\n",
       "      <th colspan=\"2\" halign=\"left\">Momentum</th>\n",
       "      <th colspan=\"2\" halign=\"left\">ShortInterest</th>\n",
       "      <th colspan=\"2\" halign=\"left\">Value</th>\n",
       "    </tr>\n",
       "    <tr>\n",
       "      <th></th>\n",
       "      <th>min</th>\n",
       "      <th>max</th>\n",
       "      <th>min</th>\n",
       "      <th>max</th>\n",
       "      <th>min</th>\n",
       "      <th>max</th>\n",
       "    </tr>\n",
       "    <tr>\n",
       "      <th>industry</th>\n",
       "      <th></th>\n",
       "      <th></th>\n",
       "      <th></th>\n",
       "      <th></th>\n",
       "      <th></th>\n",
       "      <th></th>\n",
       "    </tr>\n",
       "  </thead>\n",
       "  <tbody>\n",
       "    <tr>\n",
       "      <th>FINANCIAL</th>\n",
       "      <td>1.0</td>\n",
       "      <td>246.0</td>\n",
       "      <td>1.0</td>\n",
       "      <td>246.0</td>\n",
       "      <td>1.0</td>\n",
       "      <td>246.0</td>\n",
       "    </tr>\n",
       "    <tr>\n",
       "      <th>TECH</th>\n",
       "      <td>1.0</td>\n",
       "      <td>254.0</td>\n",
       "      <td>1.0</td>\n",
       "      <td>254.0</td>\n",
       "      <td>1.0</td>\n",
       "      <td>254.0</td>\n",
       "    </tr>\n",
       "  </tbody>\n",
       "</table>\n",
       "</div>"
      ],
      "text/plain": [
       "          Momentum        ShortInterest        Value       \n",
       "               min    max           min    max   min    max\n",
       "industry                                                   \n",
       "FINANCIAL      1.0  246.0           1.0  246.0   1.0  246.0\n",
       "TECH           1.0  254.0           1.0  254.0   1.0  254.0"
      ]
     },
     "execution_count": 88,
     "metadata": {},
     "output_type": "execute_result"
    }
   ],
   "source": [
    "# Within-industry rank descending\n",
    "ind_rank = by_industry.rank(ascending=False)\n",
    "ind_rank.groupby(industries).agg(['min', 'max'])"
   ]
  },
  {
   "cell_type": "code",
   "execution_count": 90,
   "metadata": {
    "collapsed": false
   },
   "outputs": [
    {
     "data": {
      "text/html": [
       "<div>\n",
       "<table border=\"1\" class=\"dataframe\">\n",
       "  <thead>\n",
       "    <tr style=\"text-align: right;\">\n",
       "      <th></th>\n",
       "      <th>Momentum</th>\n",
       "      <th>ShortInterest</th>\n",
       "      <th>Value</th>\n",
       "    </tr>\n",
       "  </thead>\n",
       "  <tbody>\n",
       "    <tr>\n",
       "      <th>MYNBI</th>\n",
       "      <td>-0.091346</td>\n",
       "      <td>-0.976696</td>\n",
       "      <td>-1.004802</td>\n",
       "    </tr>\n",
       "    <tr>\n",
       "      <th>QPMZJ</th>\n",
       "      <td>0.794005</td>\n",
       "      <td>1.299919</td>\n",
       "      <td>-0.358356</td>\n",
       "    </tr>\n",
       "    <tr>\n",
       "      <th>PLSGQ</th>\n",
       "      <td>-0.541047</td>\n",
       "      <td>-0.836164</td>\n",
       "      <td>-1.679355</td>\n",
       "    </tr>\n",
       "    <tr>\n",
       "      <th>EJEYD</th>\n",
       "      <td>-0.583207</td>\n",
       "      <td>-1.623142</td>\n",
       "      <td>0.990749</td>\n",
       "    </tr>\n",
       "    <tr>\n",
       "      <th>TZIRW</th>\n",
       "      <td>1.572120</td>\n",
       "      <td>-0.265423</td>\n",
       "      <td>0.374314</td>\n",
       "    </tr>\n",
       "    <tr>\n",
       "      <th>ZTEJD</th>\n",
       "      <td>1.395171</td>\n",
       "      <td>0.360703</td>\n",
       "      <td>-1.436006</td>\n",
       "    </tr>\n",
       "    <tr>\n",
       "      <th>XCVKP</th>\n",
       "      <td>-0.074863</td>\n",
       "      <td>0.632931</td>\n",
       "      <td>-0.660154</td>\n",
       "    </tr>\n",
       "    <tr>\n",
       "      <th>RDLNK</th>\n",
       "      <td>0.238200</td>\n",
       "      <td>-0.319869</td>\n",
       "      <td>0.102086</td>\n",
       "    </tr>\n",
       "    <tr>\n",
       "      <th>TUGRP</th>\n",
       "      <td>1.075068</td>\n",
       "      <td>1.665302</td>\n",
       "      <td>1.580983</td>\n",
       "    </tr>\n",
       "    <tr>\n",
       "      <th>OQIBZ</th>\n",
       "      <td>1.412345</td>\n",
       "      <td>0.358356</td>\n",
       "      <td>-1.313972</td>\n",
       "    </tr>\n",
       "    <tr>\n",
       "      <th>RACXM</th>\n",
       "      <td>1.229653</td>\n",
       "      <td>1.257760</td>\n",
       "      <td>-0.822111</td>\n",
       "    </tr>\n",
       "    <tr>\n",
       "      <th>WZVUA</th>\n",
       "      <td>-1.426398</td>\n",
       "      <td>-0.625366</td>\n",
       "      <td>-0.934536</td>\n",
       "    </tr>\n",
       "    <tr>\n",
       "      <th>TPKHX</th>\n",
       "      <td>0.224589</td>\n",
       "      <td>-0.156531</td>\n",
       "      <td>1.313503</td>\n",
       "    </tr>\n",
       "    <tr>\n",
       "      <th>KWCGS</th>\n",
       "      <td>0.142920</td>\n",
       "      <td>0.741823</td>\n",
       "      <td>0.619320</td>\n",
       "    </tr>\n",
       "    <tr>\n",
       "      <th>HHZEZ</th>\n",
       "      <td>1.538823</td>\n",
       "      <td>0.597260</td>\n",
       "      <td>-1.566930</td>\n",
       "    </tr>\n",
       "    <tr>\n",
       "      <th>ROCCK</th>\n",
       "      <td>1.117228</td>\n",
       "      <td>-1.510717</td>\n",
       "      <td>0.428622</td>\n",
       "    </tr>\n",
       "    <tr>\n",
       "      <th>QPDJR</th>\n",
       "      <td>-1.640177</td>\n",
       "      <td>0.700989</td>\n",
       "      <td>0.755434</td>\n",
       "    </tr>\n",
       "    <tr>\n",
       "      <th>JWDRK</th>\n",
       "      <td>-0.537651</td>\n",
       "      <td>1.572120</td>\n",
       "      <td>0.714600</td>\n",
       "    </tr>\n",
       "    <tr>\n",
       "      <th>RGZTR</th>\n",
       "      <td>1.637195</td>\n",
       "      <td>-0.555101</td>\n",
       "      <td>0.442675</td>\n",
       "    </tr>\n",
       "    <tr>\n",
       "      <th>SJOCT</th>\n",
       "      <td>-0.619320</td>\n",
       "      <td>-0.469594</td>\n",
       "      <td>0.088474</td>\n",
       "    </tr>\n",
       "    <tr>\n",
       "      <th>ZMKSH</th>\n",
       "      <td>-0.555101</td>\n",
       "      <td>0.259984</td>\n",
       "      <td>-1.468557</td>\n",
       "    </tr>\n",
       "    <tr>\n",
       "      <th>JFGFB</th>\n",
       "      <td>0.524040</td>\n",
       "      <td>-0.496817</td>\n",
       "      <td>-1.721846</td>\n",
       "    </tr>\n",
       "    <tr>\n",
       "      <th>TVIPC</th>\n",
       "      <td>1.708234</td>\n",
       "      <td>0.034029</td>\n",
       "      <td>0.796269</td>\n",
       "    </tr>\n",
       "    <tr>\n",
       "      <th>CVYEE</th>\n",
       "      <td>-1.259057</td>\n",
       "      <td>0.673766</td>\n",
       "      <td>0.115697</td>\n",
       "    </tr>\n",
       "    <tr>\n",
       "      <th>BCWRV</th>\n",
       "      <td>-0.639420</td>\n",
       "      <td>0.920483</td>\n",
       "      <td>1.426398</td>\n",
       "    </tr>\n",
       "    <tr>\n",
       "      <th>MWQIQ</th>\n",
       "      <td>-0.020417</td>\n",
       "      <td>-1.612954</td>\n",
       "      <td>-1.626566</td>\n",
       "    </tr>\n",
       "    <tr>\n",
       "      <th>ZHGVS</th>\n",
       "      <td>0.265423</td>\n",
       "      <td>1.177388</td>\n",
       "      <td>1.272668</td>\n",
       "    </tr>\n",
       "    <tr>\n",
       "      <th>NSIOP</th>\n",
       "      <td>0.836164</td>\n",
       "      <td>1.552876</td>\n",
       "      <td>1.679355</td>\n",
       "    </tr>\n",
       "    <tr>\n",
       "      <th>VUWZL</th>\n",
       "      <td>-0.142920</td>\n",
       "      <td>-0.564874</td>\n",
       "      <td>-0.306257</td>\n",
       "    </tr>\n",
       "    <tr>\n",
       "      <th>CKTDP</th>\n",
       "      <td>1.496664</td>\n",
       "      <td>0.302143</td>\n",
       "      <td>-1.257760</td>\n",
       "    </tr>\n",
       "    <tr>\n",
       "      <th>SUKGH</th>\n",
       "      <td>-0.864326</td>\n",
       "      <td>0.020417</td>\n",
       "      <td>0.864326</td>\n",
       "    </tr>\n",
       "    <tr>\n",
       "      <th>AXIDW</th>\n",
       "      <td>-0.986828</td>\n",
       "      <td>-0.102086</td>\n",
       "      <td>-0.877937</td>\n",
       "    </tr>\n",
       "    <tr>\n",
       "      <th>HLZFK</th>\n",
       "      <td>-1.667400</td>\n",
       "      <td>-1.585731</td>\n",
       "      <td>-0.850714</td>\n",
       "    </tr>\n",
       "    <tr>\n",
       "      <th>NBDZE</th>\n",
       "      <td>-1.623142</td>\n",
       "      <td>-0.259984</td>\n",
       "      <td>0.836164</td>\n",
       "    </tr>\n",
       "    <tr>\n",
       "      <th>WHBSU</th>\n",
       "      <td>-0.962643</td>\n",
       "      <td>1.426398</td>\n",
       "      <td>0.583207</td>\n",
       "    </tr>\n",
       "    <tr>\n",
       "      <th>RTVCA</th>\n",
       "      <td>0.632931</td>\n",
       "      <td>1.653788</td>\n",
       "      <td>0.224589</td>\n",
       "    </tr>\n",
       "    <tr>\n",
       "      <th>DUGTS</th>\n",
       "      <td>-1.398291</td>\n",
       "      <td>-1.243706</td>\n",
       "      <td>1.145334</td>\n",
       "    </tr>\n",
       "    <tr>\n",
       "      <th>DMCLD</th>\n",
       "      <td>0.456728</td>\n",
       "      <td>0.639420</td>\n",
       "      <td>-0.007027</td>\n",
       "    </tr>\n",
       "    <tr>\n",
       "      <th>BTAGF</th>\n",
       "      <td>-1.201547</td>\n",
       "      <td>-1.089121</td>\n",
       "      <td>-0.920483</td>\n",
       "    </tr>\n",
       "    <tr>\n",
       "      <th>WDPGX</th>\n",
       "      <td>0.597260</td>\n",
       "      <td>-0.021080</td>\n",
       "      <td>-0.049186</td>\n",
       "    </tr>\n",
       "    <tr>\n",
       "      <th>ZBVAR</th>\n",
       "      <td>-1.707461</td>\n",
       "      <td>-1.004802</td>\n",
       "      <td>-1.426398</td>\n",
       "    </tr>\n",
       "    <tr>\n",
       "      <th>NTDIC</th>\n",
       "      <td>-0.077292</td>\n",
       "      <td>-1.454504</td>\n",
       "      <td>-0.512941</td>\n",
       "    </tr>\n",
       "    <tr>\n",
       "      <th>HCUJL</th>\n",
       "      <td>-1.517674</td>\n",
       "      <td>-1.299891</td>\n",
       "      <td>-0.455983</td>\n",
       "    </tr>\n",
       "    <tr>\n",
       "      <th>NFBQO</th>\n",
       "      <td>-1.103175</td>\n",
       "      <td>-1.145334</td>\n",
       "      <td>-0.484835</td>\n",
       "    </tr>\n",
       "    <tr>\n",
       "      <th>BTDWM</th>\n",
       "      <td>-1.422394</td>\n",
       "      <td>0.483206</td>\n",
       "      <td>0.142920</td>\n",
       "    </tr>\n",
       "    <tr>\n",
       "      <th>GILXP</th>\n",
       "      <td>0.526994</td>\n",
       "      <td>-0.063239</td>\n",
       "      <td>0.302143</td>\n",
       "    </tr>\n",
       "    <tr>\n",
       "      <th>SFWVG</th>\n",
       "      <td>0.292646</td>\n",
       "      <td>-1.463228</td>\n",
       "      <td>0.551263</td>\n",
       "    </tr>\n",
       "    <tr>\n",
       "      <th>YBZVF</th>\n",
       "      <td>-0.892377</td>\n",
       "      <td>-1.426398</td>\n",
       "      <td>0.245931</td>\n",
       "    </tr>\n",
       "    <tr>\n",
       "      <th>FKQID</th>\n",
       "      <td>0.583207</td>\n",
       "      <td>-1.187494</td>\n",
       "      <td>0.470782</td>\n",
       "    </tr>\n",
       "    <tr>\n",
       "      <th>TOVFA</th>\n",
       "      <td>1.367948</td>\n",
       "      <td>0.183754</td>\n",
       "      <td>-1.150166</td>\n",
       "    </tr>\n",
       "    <tr>\n",
       "      <th>...</th>\n",
       "      <td>...</td>\n",
       "      <td>...</td>\n",
       "      <td>...</td>\n",
       "    </tr>\n",
       "    <tr>\n",
       "      <th>UWQDW</th>\n",
       "      <td>-1.068497</td>\n",
       "      <td>-0.292646</td>\n",
       "      <td>-1.163777</td>\n",
       "    </tr>\n",
       "    <tr>\n",
       "      <th>YUWGT</th>\n",
       "      <td>-0.105399</td>\n",
       "      <td>1.018856</td>\n",
       "      <td>1.524770</td>\n",
       "    </tr>\n",
       "    <tr>\n",
       "      <th>UTQDI</th>\n",
       "      <td>0.347091</td>\n",
       "      <td>1.449617</td>\n",
       "      <td>1.014051</td>\n",
       "    </tr>\n",
       "    <tr>\n",
       "      <th>WXTFM</th>\n",
       "      <td>-0.667526</td>\n",
       "      <td>0.498888</td>\n",
       "      <td>1.201547</td>\n",
       "    </tr>\n",
       "    <tr>\n",
       "      <th>CZBAD</th>\n",
       "      <td>-0.288090</td>\n",
       "      <td>-0.878324</td>\n",
       "      <td>-0.077292</td>\n",
       "    </tr>\n",
       "    <tr>\n",
       "      <th>LXPKD</th>\n",
       "      <td>0.864271</td>\n",
       "      <td>-0.161612</td>\n",
       "      <td>1.004802</td>\n",
       "    </tr>\n",
       "    <tr>\n",
       "      <th>VOLSW</th>\n",
       "      <td>-1.299891</td>\n",
       "      <td>1.504063</td>\n",
       "      <td>-1.558508</td>\n",
       "    </tr>\n",
       "    <tr>\n",
       "      <th>IVPZY</th>\n",
       "      <td>1.381560</td>\n",
       "      <td>-1.286280</td>\n",
       "      <td>-1.408783</td>\n",
       "    </tr>\n",
       "    <tr>\n",
       "      <th>HFRRC</th>\n",
       "      <td>-1.580983</td>\n",
       "      <td>1.538823</td>\n",
       "      <td>-0.653473</td>\n",
       "    </tr>\n",
       "    <tr>\n",
       "      <th>YQFAU</th>\n",
       "      <td>-1.082108</td>\n",
       "      <td>0.210977</td>\n",
       "      <td>-1.272668</td>\n",
       "    </tr>\n",
       "    <tr>\n",
       "      <th>FQNTV</th>\n",
       "      <td>0.782657</td>\n",
       "      <td>0.496817</td>\n",
       "      <td>-0.646543</td>\n",
       "    </tr>\n",
       "    <tr>\n",
       "      <th>GOWVM</th>\n",
       "      <td>-1.510717</td>\n",
       "      <td>-0.667526</td>\n",
       "      <td>-0.948590</td>\n",
       "    </tr>\n",
       "    <tr>\n",
       "      <th>IASEM</th>\n",
       "      <td>0.483206</td>\n",
       "      <td>1.640177</td>\n",
       "      <td>-0.782657</td>\n",
       "    </tr>\n",
       "    <tr>\n",
       "      <th>FOSBM</th>\n",
       "      <td>-0.333480</td>\n",
       "      <td>-0.115697</td>\n",
       "      <td>0.442371</td>\n",
       "    </tr>\n",
       "    <tr>\n",
       "      <th>ZCUSM</th>\n",
       "      <td>-0.808058</td>\n",
       "      <td>-0.007027</td>\n",
       "      <td>-1.046962</td>\n",
       "    </tr>\n",
       "    <tr>\n",
       "      <th>KHQOB</th>\n",
       "      <td>0.414569</td>\n",
       "      <td>0.962643</td>\n",
       "      <td>-0.681579</td>\n",
       "    </tr>\n",
       "    <tr>\n",
       "      <th>PTDIQ</th>\n",
       "      <td>-0.496817</td>\n",
       "      <td>-1.544897</td>\n",
       "      <td>-0.741823</td>\n",
       "    </tr>\n",
       "    <tr>\n",
       "      <th>PRUMP</th>\n",
       "      <td>0.401537</td>\n",
       "      <td>-1.504063</td>\n",
       "      <td>1.082108</td>\n",
       "    </tr>\n",
       "    <tr>\n",
       "      <th>IFHRL</th>\n",
       "      <td>0.700989</td>\n",
       "      <td>1.163777</td>\n",
       "      <td>-0.115697</td>\n",
       "    </tr>\n",
       "    <tr>\n",
       "      <th>FJTEO</th>\n",
       "      <td>0.660154</td>\n",
       "      <td>1.286280</td>\n",
       "      <td>-0.374314</td>\n",
       "    </tr>\n",
       "    <tr>\n",
       "      <th>CCPMS</th>\n",
       "      <td>0.358356</td>\n",
       "      <td>0.245931</td>\n",
       "      <td>-0.105399</td>\n",
       "    </tr>\n",
       "    <tr>\n",
       "      <th>NRCIP</th>\n",
       "      <td>-0.469594</td>\n",
       "      <td>-1.653788</td>\n",
       "      <td>-1.490451</td>\n",
       "    </tr>\n",
       "    <tr>\n",
       "      <th>HDJEL</th>\n",
       "      <td>-0.836164</td>\n",
       "      <td>-0.119452</td>\n",
       "      <td>-0.175665</td>\n",
       "    </tr>\n",
       "    <tr>\n",
       "      <th>ZDEVB</th>\n",
       "      <td>0.484835</td>\n",
       "      <td>-1.538823</td>\n",
       "      <td>1.103175</td>\n",
       "    </tr>\n",
       "    <tr>\n",
       "      <th>VESRG</th>\n",
       "      <td>-0.687377</td>\n",
       "      <td>1.367948</td>\n",
       "      <td>0.279034</td>\n",
       "    </tr>\n",
       "    <tr>\n",
       "      <th>ABMRW</th>\n",
       "      <td>0.319869</td>\n",
       "      <td>-0.646543</td>\n",
       "      <td>-1.122943</td>\n",
       "    </tr>\n",
       "    <tr>\n",
       "      <th>YTPWW</th>\n",
       "      <td>-1.061015</td>\n",
       "      <td>1.117228</td>\n",
       "      <td>-1.707461</td>\n",
       "    </tr>\n",
       "    <tr>\n",
       "      <th>DPRLY</th>\n",
       "      <td>-0.251811</td>\n",
       "      <td>-1.436006</td>\n",
       "      <td>-0.891549</td>\n",
       "    </tr>\n",
       "    <tr>\n",
       "      <th>KDVAH</th>\n",
       "      <td>-1.637195</td>\n",
       "      <td>1.229653</td>\n",
       "      <td>-0.344303</td>\n",
       "    </tr>\n",
       "    <tr>\n",
       "      <th>HPJIH</th>\n",
       "      <td>1.408783</td>\n",
       "      <td>0.809880</td>\n",
       "      <td>0.592097</td>\n",
       "    </tr>\n",
       "    <tr>\n",
       "      <th>APLQK</th>\n",
       "      <td>1.463228</td>\n",
       "      <td>0.279034</td>\n",
       "      <td>0.469594</td>\n",
       "    </tr>\n",
       "    <tr>\n",
       "      <th>CCJSN</th>\n",
       "      <td>0.578486</td>\n",
       "      <td>1.544897</td>\n",
       "      <td>-1.259057</td>\n",
       "    </tr>\n",
       "    <tr>\n",
       "      <th>HXLMY</th>\n",
       "      <td>-0.415149</td>\n",
       "      <td>1.476840</td>\n",
       "      <td>0.319869</td>\n",
       "    </tr>\n",
       "    <tr>\n",
       "      <th>EHJGX</th>\n",
       "      <td>1.014051</td>\n",
       "      <td>-1.558508</td>\n",
       "      <td>1.681011</td>\n",
       "    </tr>\n",
       "    <tr>\n",
       "      <th>YPVZL</th>\n",
       "      <td>-0.088474</td>\n",
       "      <td>-0.632931</td>\n",
       "      <td>-0.837103</td>\n",
       "    </tr>\n",
       "    <tr>\n",
       "      <th>JMTEY</th>\n",
       "      <td>-1.626566</td>\n",
       "      <td>-0.401537</td>\n",
       "      <td>1.354337</td>\n",
       "    </tr>\n",
       "    <tr>\n",
       "      <th>DMLQP</th>\n",
       "      <td>-1.089121</td>\n",
       "      <td>-0.892377</td>\n",
       "      <td>-1.299919</td>\n",
       "    </tr>\n",
       "    <tr>\n",
       "      <th>HUWLU</th>\n",
       "      <td>0.344303</td>\n",
       "      <td>1.328025</td>\n",
       "      <td>1.046962</td>\n",
       "    </tr>\n",
       "    <tr>\n",
       "      <th>LNILM</th>\n",
       "      <td>-0.006806</td>\n",
       "      <td>-1.572120</td>\n",
       "      <td>-1.327114</td>\n",
       "    </tr>\n",
       "    <tr>\n",
       "      <th>YYWJD</th>\n",
       "      <td>-0.646543</td>\n",
       "      <td>-0.428760</td>\n",
       "      <td>-0.074863</td>\n",
       "    </tr>\n",
       "    <tr>\n",
       "      <th>PJDOE</th>\n",
       "      <td>-0.737792</td>\n",
       "      <td>-0.948590</td>\n",
       "      <td>-0.962643</td>\n",
       "    </tr>\n",
       "    <tr>\n",
       "      <th>LHXFK</th>\n",
       "      <td>1.046962</td>\n",
       "      <td>-1.440451</td>\n",
       "      <td>1.566930</td>\n",
       "    </tr>\n",
       "    <tr>\n",
       "      <th>PHDVM</th>\n",
       "      <td>-0.709686</td>\n",
       "      <td>1.454504</td>\n",
       "      <td>-1.173440</td>\n",
       "    </tr>\n",
       "    <tr>\n",
       "      <th>MOQOS</th>\n",
       "      <td>1.082108</td>\n",
       "      <td>1.109331</td>\n",
       "      <td>1.708234</td>\n",
       "    </tr>\n",
       "    <tr>\n",
       "      <th>THVMQ</th>\n",
       "      <td>0.891549</td>\n",
       "      <td>-1.721846</td>\n",
       "      <td>-0.796269</td>\n",
       "    </tr>\n",
       "    <tr>\n",
       "      <th>JPHKQ</th>\n",
       "      <td>-0.238200</td>\n",
       "      <td>0.401537</td>\n",
       "      <td>0.074863</td>\n",
       "    </tr>\n",
       "    <tr>\n",
       "      <th>VACPK</th>\n",
       "      <td>1.681011</td>\n",
       "      <td>-1.395171</td>\n",
       "      <td>-0.238200</td>\n",
       "    </tr>\n",
       "    <tr>\n",
       "      <th>MHNBS</th>\n",
       "      <td>0.673766</td>\n",
       "      <td>1.490451</td>\n",
       "      <td>-1.313503</td>\n",
       "    </tr>\n",
       "    <tr>\n",
       "      <th>YBNCI</th>\n",
       "      <td>1.623142</td>\n",
       "      <td>0.541047</td>\n",
       "      <td>0.976696</td>\n",
       "    </tr>\n",
       "    <tr>\n",
       "      <th>GXKFD</th>\n",
       "      <td>1.286280</td>\n",
       "      <td>1.463228</td>\n",
       "      <td>1.381560</td>\n",
       "    </tr>\n",
       "  </tbody>\n",
       "</table>\n",
       "<p>500 rows × 3 columns</p>\n",
       "</div>"
      ],
      "text/plain": [
       "       Momentum  ShortInterest     Value\n",
       "MYNBI -0.091346      -0.976696 -1.004802\n",
       "QPMZJ  0.794005       1.299919 -0.358356\n",
       "PLSGQ -0.541047      -0.836164 -1.679355\n",
       "EJEYD -0.583207      -1.623142  0.990749\n",
       "TZIRW  1.572120      -0.265423  0.374314\n",
       "ZTEJD  1.395171       0.360703 -1.436006\n",
       "XCVKP -0.074863       0.632931 -0.660154\n",
       "RDLNK  0.238200      -0.319869  0.102086\n",
       "TUGRP  1.075068       1.665302  1.580983\n",
       "OQIBZ  1.412345       0.358356 -1.313972\n",
       "RACXM  1.229653       1.257760 -0.822111\n",
       "WZVUA -1.426398      -0.625366 -0.934536\n",
       "TPKHX  0.224589      -0.156531  1.313503\n",
       "KWCGS  0.142920       0.741823  0.619320\n",
       "HHZEZ  1.538823       0.597260 -1.566930\n",
       "ROCCK  1.117228      -1.510717  0.428622\n",
       "QPDJR -1.640177       0.700989  0.755434\n",
       "JWDRK -0.537651       1.572120  0.714600\n",
       "RGZTR  1.637195      -0.555101  0.442675\n",
       "SJOCT -0.619320      -0.469594  0.088474\n",
       "ZMKSH -0.555101       0.259984 -1.468557\n",
       "JFGFB  0.524040      -0.496817 -1.721846\n",
       "TVIPC  1.708234       0.034029  0.796269\n",
       "CVYEE -1.259057       0.673766  0.115697\n",
       "BCWRV -0.639420       0.920483  1.426398\n",
       "MWQIQ -0.020417      -1.612954 -1.626566\n",
       "ZHGVS  0.265423       1.177388  1.272668\n",
       "NSIOP  0.836164       1.552876  1.679355\n",
       "VUWZL -0.142920      -0.564874 -0.306257\n",
       "CKTDP  1.496664       0.302143 -1.257760\n",
       "SUKGH -0.864326       0.020417  0.864326\n",
       "AXIDW -0.986828      -0.102086 -0.877937\n",
       "HLZFK -1.667400      -1.585731 -0.850714\n",
       "NBDZE -1.623142      -0.259984  0.836164\n",
       "WHBSU -0.962643       1.426398  0.583207\n",
       "RTVCA  0.632931       1.653788  0.224589\n",
       "DUGTS -1.398291      -1.243706  1.145334\n",
       "DMCLD  0.456728       0.639420 -0.007027\n",
       "BTAGF -1.201547      -1.089121 -0.920483\n",
       "WDPGX  0.597260      -0.021080 -0.049186\n",
       "ZBVAR -1.707461      -1.004802 -1.426398\n",
       "NTDIC -0.077292      -1.454504 -0.512941\n",
       "HCUJL -1.517674      -1.299891 -0.455983\n",
       "NFBQO -1.103175      -1.145334 -0.484835\n",
       "BTDWM -1.422394       0.483206  0.142920\n",
       "GILXP  0.526994      -0.063239  0.302143\n",
       "SFWVG  0.292646      -1.463228  0.551263\n",
       "YBZVF -0.892377      -1.426398  0.245931\n",
       "FKQID  0.583207      -1.187494  0.470782\n",
       "TOVFA  1.367948       0.183754 -1.150166\n",
       "...         ...            ...       ...\n",
       "UWQDW -1.068497      -0.292646 -1.163777\n",
       "YUWGT -0.105399       1.018856  1.524770\n",
       "UTQDI  0.347091       1.449617  1.014051\n",
       "WXTFM -0.667526       0.498888  1.201547\n",
       "CZBAD -0.288090      -0.878324 -0.077292\n",
       "LXPKD  0.864271      -0.161612  1.004802\n",
       "VOLSW -1.299891       1.504063 -1.558508\n",
       "IVPZY  1.381560      -1.286280 -1.408783\n",
       "HFRRC -1.580983       1.538823 -0.653473\n",
       "YQFAU -1.082108       0.210977 -1.272668\n",
       "FQNTV  0.782657       0.496817 -0.646543\n",
       "GOWVM -1.510717      -0.667526 -0.948590\n",
       "IASEM  0.483206       1.640177 -0.782657\n",
       "FOSBM -0.333480      -0.115697  0.442371\n",
       "ZCUSM -0.808058      -0.007027 -1.046962\n",
       "KHQOB  0.414569       0.962643 -0.681579\n",
       "PTDIQ -0.496817      -1.544897 -0.741823\n",
       "PRUMP  0.401537      -1.504063  1.082108\n",
       "IFHRL  0.700989       1.163777 -0.115697\n",
       "FJTEO  0.660154       1.286280 -0.374314\n",
       "CCPMS  0.358356       0.245931 -0.105399\n",
       "NRCIP -0.469594      -1.653788 -1.490451\n",
       "HDJEL -0.836164      -0.119452 -0.175665\n",
       "ZDEVB  0.484835      -1.538823  1.103175\n",
       "VESRG -0.687377       1.367948  0.279034\n",
       "ABMRW  0.319869      -0.646543 -1.122943\n",
       "YTPWW -1.061015       1.117228 -1.707461\n",
       "DPRLY -0.251811      -1.436006 -0.891549\n",
       "KDVAH -1.637195       1.229653 -0.344303\n",
       "HPJIH  1.408783       0.809880  0.592097\n",
       "APLQK  1.463228       0.279034  0.469594\n",
       "CCJSN  0.578486       1.544897 -1.259057\n",
       "HXLMY -0.415149       1.476840  0.319869\n",
       "EHJGX  1.014051      -1.558508  1.681011\n",
       "YPVZL -0.088474      -0.632931 -0.837103\n",
       "JMTEY -1.626566      -0.401537  1.354337\n",
       "DMLQP -1.089121      -0.892377 -1.299919\n",
       "HUWLU  0.344303       1.328025  1.046962\n",
       "LNILM -0.006806      -1.572120 -1.327114\n",
       "YYWJD -0.646543      -0.428760 -0.074863\n",
       "PJDOE -0.737792      -0.948590 -0.962643\n",
       "LHXFK  1.046962      -1.440451  1.566930\n",
       "PHDVM -0.709686       1.454504 -1.173440\n",
       "MOQOS  1.082108       1.109331  1.708234\n",
       "THVMQ  0.891549      -1.721846 -0.796269\n",
       "JPHKQ -0.238200       0.401537  0.074863\n",
       "VACPK  1.681011      -1.395171 -0.238200\n",
       "MHNBS  0.673766       1.490451 -1.313503\n",
       "YBNCI  1.623142       0.541047  0.976696\n",
       "GXKFD  1.286280       1.463228  1.381560\n",
       "\n",
       "[500 rows x 3 columns]"
      ]
     },
     "execution_count": 90,
     "metadata": {},
     "output_type": "execute_result"
    }
   ],
   "source": [
    "# Industry rank and standardize\n",
    "by_industry.apply(lambda x: zscore(x.rank()))"
   ]
  },
  {
   "cell_type": "markdown",
   "metadata": {},
   "source": [
    "### Group factor exposures"
   ]
  },
  {
   "cell_type": "code",
   "execution_count": 92,
   "metadata": {
    "collapsed": false
   },
   "outputs": [],
   "source": [
    "from numpy.random import rand\n",
    "fac1, fac2, fac3 = np.random.rand(3, 1000)\n",
    "\n",
    "ticker_subset = tickers.take(np.random.permutation(N)[:1000])\n",
    "\n",
    "# Weighted sum of factors plus noise\n",
    "port = Series(0.7 * fac1 - 1.2 * fac2 + 0.3 * fac3 + rand(1000),\n",
    "              index=ticker_subset)\n",
    "factors = DataFrame({'f1': fac1, 'f2': fac2, 'f3': fac3},\n",
    "                    index=ticker_subset)"
   ]
  },
  {
   "cell_type": "code",
   "execution_count": 97,
   "metadata": {
    "collapsed": false
   },
   "outputs": [
    {
     "data": {
      "text/plain": [
       "array([ 0.7833,  0.2532,  0.9788,  0.5929,  0.5724,  0.5268,  0.019 ,\n",
       "        0.6566,  0.8524,  0.2775])"
      ]
     },
     "execution_count": 97,
     "metadata": {},
     "output_type": "execute_result"
    }
   ],
   "source": [
    "rand(10)"
   ]
  },
  {
   "cell_type": "code",
   "execution_count": 98,
   "metadata": {
    "collapsed": false
   },
   "outputs": [
    {
     "data": {
      "text/plain": [
       "f1    0.398623\n",
       "f2   -0.670775\n",
       "f3    0.196492\n",
       "dtype: float64"
      ]
     },
     "execution_count": 98,
     "metadata": {},
     "output_type": "execute_result"
    }
   ],
   "source": [
    "factors.corrwith(port)"
   ]
  },
  {
   "cell_type": "code",
   "execution_count": 99,
   "metadata": {
    "collapsed": false
   },
   "outputs": [
    {
     "name": "stderr",
     "output_type": "stream",
     "text": [
      "//anaconda/lib/python3.5/site-packages/IPython/core/interactiveshell.py:2885: FutureWarning: The pandas.stats.ols module is deprecated and will be removed in a future version. We refer to external packages like statsmodels, see some examples here: http://statsmodels.sourceforge.net/stable/regression.html\n",
      "  exec(code_obj, self.user_global_ns, self.user_ns)\n"
     ]
    },
    {
     "data": {
      "text/plain": [
       "f1           0.743982\n",
       "f2          -1.185506\n",
       "f3           0.356145\n",
       "intercept    0.451522\n",
       "dtype: float64"
      ]
     },
     "execution_count": 99,
     "metadata": {},
     "output_type": "execute_result"
    }
   ],
   "source": [
    "pd.ols(y=port, x=factors).beta"
   ]
  },
  {
   "cell_type": "code",
   "execution_count": 100,
   "metadata": {
    "collapsed": false
   },
   "outputs": [],
   "source": [
    "def beta_exposure(chunk, factors=None):\n",
    "    return pd.ols(y=chunk, x=factors).beta"
   ]
  },
  {
   "cell_type": "code",
   "execution_count": 101,
   "metadata": {
    "collapsed": false
   },
   "outputs": [
    {
     "name": "stderr",
     "output_type": "stream",
     "text": [
      "//anaconda/lib/python3.5/site-packages/pandas/core/groupby.py:647: FutureWarning: The pandas.stats.ols module is deprecated and will be removed in a future version. We refer to external packages like statsmodels, see some examples here: http://statsmodels.sourceforge.net/stable/regression.html\n",
      "  return func(g, *args, **kwargs)\n"
     ]
    },
    {
     "data": {
      "text/html": [
       "<div>\n",
       "<table border=\"1\" class=\"dataframe\">\n",
       "  <thead>\n",
       "    <tr style=\"text-align: right;\">\n",
       "      <th></th>\n",
       "      <th>f1</th>\n",
       "      <th>f2</th>\n",
       "      <th>f3</th>\n",
       "      <th>intercept</th>\n",
       "    </tr>\n",
       "    <tr>\n",
       "      <th>industry</th>\n",
       "      <th></th>\n",
       "      <th></th>\n",
       "      <th></th>\n",
       "      <th></th>\n",
       "    </tr>\n",
       "  </thead>\n",
       "  <tbody>\n",
       "    <tr>\n",
       "      <th>FINANCIAL</th>\n",
       "      <td>0.678193</td>\n",
       "      <td>-1.192323</td>\n",
       "      <td>0.408212</td>\n",
       "      <td>0.458772</td>\n",
       "    </tr>\n",
       "    <tr>\n",
       "      <th>TECH</th>\n",
       "      <td>0.804208</td>\n",
       "      <td>-1.176188</td>\n",
       "      <td>0.313396</td>\n",
       "      <td>0.440418</td>\n",
       "    </tr>\n",
       "  </tbody>\n",
       "</table>\n",
       "</div>"
      ],
      "text/plain": [
       "                 f1        f2        f3  intercept\n",
       "industry                                          \n",
       "FINANCIAL  0.678193 -1.192323  0.408212   0.458772\n",
       "TECH       0.804208 -1.176188  0.313396   0.440418"
      ]
     },
     "execution_count": 101,
     "metadata": {},
     "output_type": "execute_result"
    }
   ],
   "source": [
    "by_ind = port.groupby(industries)\n",
    "exposures = by_ind.apply(beta_exposure, factors=factors)\n",
    "exposures.unstack()"
   ]
  },
  {
   "cell_type": "markdown",
   "metadata": {},
   "source": [
    "### Decile and quartile analysis"
   ]
  },
  {
   "cell_type": "code",
   "execution_count": 102,
   "metadata": {
    "collapsed": false
   },
   "outputs": [
    {
     "name": "stdout",
     "output_type": "stream",
     "text": [
      "<class 'pandas.core.frame.DataFrame'>\n",
      "DatetimeIndex: 2657 entries, 2006-01-03 to 2016-07-22\n",
      "Data columns (total 6 columns):\n",
      "Open         2657 non-null float64\n",
      "High         2657 non-null float64\n",
      "Low          2657 non-null float64\n",
      "Close        2657 non-null float64\n",
      "Volume       2657 non-null int64\n",
      "Adj Close    2657 non-null float64\n",
      "dtypes: float64(5), int64(1)\n",
      "memory usage: 145.3 KB\n"
     ]
    }
   ],
   "source": [
    "import pandas.io.data as web\n",
    "data = web.get_data_yahoo('SPY', '2006-01-01')\n",
    "data.info()"
   ]
  },
  {
   "cell_type": "code",
   "execution_count": 104,
   "metadata": {
    "collapsed": false
   },
   "outputs": [
    {
     "data": {
      "text/html": [
       "<div>\n",
       "<table border=\"1\" class=\"dataframe\">\n",
       "  <thead>\n",
       "    <tr style=\"text-align: right;\">\n",
       "      <th></th>\n",
       "      <th>Open</th>\n",
       "      <th>High</th>\n",
       "      <th>Low</th>\n",
       "      <th>Close</th>\n",
       "      <th>Volume</th>\n",
       "      <th>Adj Close</th>\n",
       "    </tr>\n",
       "    <tr>\n",
       "      <th>Date</th>\n",
       "      <th></th>\n",
       "      <th></th>\n",
       "      <th></th>\n",
       "      <th></th>\n",
       "      <th></th>\n",
       "      <th></th>\n",
       "    </tr>\n",
       "  </thead>\n",
       "  <tbody>\n",
       "    <tr>\n",
       "      <th>2006-01-03</th>\n",
       "      <td>125.190002</td>\n",
       "      <td>127.000000</td>\n",
       "      <td>124.389999</td>\n",
       "      <td>126.699997</td>\n",
       "      <td>73256700</td>\n",
       "      <td>102.136154</td>\n",
       "    </tr>\n",
       "    <tr>\n",
       "      <th>2006-01-04</th>\n",
       "      <td>126.860001</td>\n",
       "      <td>127.489998</td>\n",
       "      <td>126.699997</td>\n",
       "      <td>127.300003</td>\n",
       "      <td>51899600</td>\n",
       "      <td>102.619834</td>\n",
       "    </tr>\n",
       "    <tr>\n",
       "      <th>2006-01-05</th>\n",
       "      <td>127.150002</td>\n",
       "      <td>127.589996</td>\n",
       "      <td>126.879997</td>\n",
       "      <td>127.379997</td>\n",
       "      <td>47307500</td>\n",
       "      <td>102.684320</td>\n",
       "    </tr>\n",
       "    <tr>\n",
       "      <th>2006-01-06</th>\n",
       "      <td>128.020004</td>\n",
       "      <td>128.580002</td>\n",
       "      <td>127.360001</td>\n",
       "      <td>128.440002</td>\n",
       "      <td>62885900</td>\n",
       "      <td>103.538818</td>\n",
       "    </tr>\n",
       "    <tr>\n",
       "      <th>2006-01-09</th>\n",
       "      <td>128.419998</td>\n",
       "      <td>129.059998</td>\n",
       "      <td>128.380005</td>\n",
       "      <td>128.770004</td>\n",
       "      <td>43527400</td>\n",
       "      <td>103.804841</td>\n",
       "    </tr>\n",
       "    <tr>\n",
       "      <th>2006-01-10</th>\n",
       "      <td>128.389999</td>\n",
       "      <td>128.979996</td>\n",
       "      <td>128.259995</td>\n",
       "      <td>128.899994</td>\n",
       "      <td>44960800</td>\n",
       "      <td>103.909629</td>\n",
       "    </tr>\n",
       "    <tr>\n",
       "      <th>2006-01-11</th>\n",
       "      <td>129.020004</td>\n",
       "      <td>129.440002</td>\n",
       "      <td>128.729996</td>\n",
       "      <td>129.309998</td>\n",
       "      <td>49598900</td>\n",
       "      <td>104.240143</td>\n",
       "    </tr>\n",
       "    <tr>\n",
       "      <th>2006-01-12</th>\n",
       "      <td>129.080002</td>\n",
       "      <td>129.279999</td>\n",
       "      <td>128.440002</td>\n",
       "      <td>128.800003</td>\n",
       "      <td>40509200</td>\n",
       "      <td>103.829023</td>\n",
       "    </tr>\n",
       "    <tr>\n",
       "      <th>2006-01-13</th>\n",
       "      <td>128.570007</td>\n",
       "      <td>128.899994</td>\n",
       "      <td>128.199997</td>\n",
       "      <td>128.679993</td>\n",
       "      <td>44856700</td>\n",
       "      <td>103.732280</td>\n",
       "    </tr>\n",
       "    <tr>\n",
       "      <th>2006-01-17</th>\n",
       "      <td>128.199997</td>\n",
       "      <td>128.419998</td>\n",
       "      <td>127.809998</td>\n",
       "      <td>128.330002</td>\n",
       "      <td>52066600</td>\n",
       "      <td>103.450143</td>\n",
       "    </tr>\n",
       "    <tr>\n",
       "      <th>2006-01-18</th>\n",
       "      <td>127.580002</td>\n",
       "      <td>128.899994</td>\n",
       "      <td>127.160004</td>\n",
       "      <td>127.820000</td>\n",
       "      <td>75067600</td>\n",
       "      <td>103.039017</td>\n",
       "    </tr>\n",
       "    <tr>\n",
       "      <th>2006-01-19</th>\n",
       "      <td>128.130005</td>\n",
       "      <td>128.770004</td>\n",
       "      <td>127.809998</td>\n",
       "      <td>128.309998</td>\n",
       "      <td>81530400</td>\n",
       "      <td>103.434017</td>\n",
       "    </tr>\n",
       "    <tr>\n",
       "      <th>2006-01-20</th>\n",
       "      <td>128.279999</td>\n",
       "      <td>128.309998</td>\n",
       "      <td>125.970001</td>\n",
       "      <td>125.970001</td>\n",
       "      <td>114957800</td>\n",
       "      <td>101.547686</td>\n",
       "    </tr>\n",
       "    <tr>\n",
       "      <th>2006-01-23</th>\n",
       "      <td>126.209999</td>\n",
       "      <td>126.820000</td>\n",
       "      <td>126.129997</td>\n",
       "      <td>126.419998</td>\n",
       "      <td>67017400</td>\n",
       "      <td>101.910440</td>\n",
       "    </tr>\n",
       "    <tr>\n",
       "      <th>2006-01-24</th>\n",
       "      <td>126.629997</td>\n",
       "      <td>127.150002</td>\n",
       "      <td>126.419998</td>\n",
       "      <td>126.550003</td>\n",
       "      <td>53008800</td>\n",
       "      <td>102.015240</td>\n",
       "    </tr>\n",
       "    <tr>\n",
       "      <th>2006-01-25</th>\n",
       "      <td>127.040001</td>\n",
       "      <td>127.180000</td>\n",
       "      <td>125.839996</td>\n",
       "      <td>126.660004</td>\n",
       "      <td>87747700</td>\n",
       "      <td>102.103914</td>\n",
       "    </tr>\n",
       "    <tr>\n",
       "      <th>2006-01-26</th>\n",
       "      <td>127.250000</td>\n",
       "      <td>127.669998</td>\n",
       "      <td>126.760002</td>\n",
       "      <td>127.360001</td>\n",
       "      <td>71294000</td>\n",
       "      <td>102.668200</td>\n",
       "    </tr>\n",
       "    <tr>\n",
       "      <th>2006-01-27</th>\n",
       "      <td>127.660004</td>\n",
       "      <td>128.660004</td>\n",
       "      <td>127.449997</td>\n",
       "      <td>128.539993</td>\n",
       "      <td>65771200</td>\n",
       "      <td>103.619423</td>\n",
       "    </tr>\n",
       "    <tr>\n",
       "      <th>2006-01-30</th>\n",
       "      <td>128.440002</td>\n",
       "      <td>128.809998</td>\n",
       "      <td>128.350006</td>\n",
       "      <td>128.440002</td>\n",
       "      <td>33709600</td>\n",
       "      <td>103.538818</td>\n",
       "    </tr>\n",
       "    <tr>\n",
       "      <th>2006-01-31</th>\n",
       "      <td>128.320007</td>\n",
       "      <td>128.539993</td>\n",
       "      <td>127.489998</td>\n",
       "      <td>127.500000</td>\n",
       "      <td>72937000</td>\n",
       "      <td>102.781057</td>\n",
       "    </tr>\n",
       "  </tbody>\n",
       "</table>\n",
       "</div>"
      ],
      "text/plain": [
       "                  Open        High         Low       Close     Volume  \\\n",
       "Date                                                                    \n",
       "2006-01-03  125.190002  127.000000  124.389999  126.699997   73256700   \n",
       "2006-01-04  126.860001  127.489998  126.699997  127.300003   51899600   \n",
       "2006-01-05  127.150002  127.589996  126.879997  127.379997   47307500   \n",
       "2006-01-06  128.020004  128.580002  127.360001  128.440002   62885900   \n",
       "2006-01-09  128.419998  129.059998  128.380005  128.770004   43527400   \n",
       "2006-01-10  128.389999  128.979996  128.259995  128.899994   44960800   \n",
       "2006-01-11  129.020004  129.440002  128.729996  129.309998   49598900   \n",
       "2006-01-12  129.080002  129.279999  128.440002  128.800003   40509200   \n",
       "2006-01-13  128.570007  128.899994  128.199997  128.679993   44856700   \n",
       "2006-01-17  128.199997  128.419998  127.809998  128.330002   52066600   \n",
       "2006-01-18  127.580002  128.899994  127.160004  127.820000   75067600   \n",
       "2006-01-19  128.130005  128.770004  127.809998  128.309998   81530400   \n",
       "2006-01-20  128.279999  128.309998  125.970001  125.970001  114957800   \n",
       "2006-01-23  126.209999  126.820000  126.129997  126.419998   67017400   \n",
       "2006-01-24  126.629997  127.150002  126.419998  126.550003   53008800   \n",
       "2006-01-25  127.040001  127.180000  125.839996  126.660004   87747700   \n",
       "2006-01-26  127.250000  127.669998  126.760002  127.360001   71294000   \n",
       "2006-01-27  127.660004  128.660004  127.449997  128.539993   65771200   \n",
       "2006-01-30  128.440002  128.809998  128.350006  128.440002   33709600   \n",
       "2006-01-31  128.320007  128.539993  127.489998  127.500000   72937000   \n",
       "\n",
       "             Adj Close  \n",
       "Date                    \n",
       "2006-01-03  102.136154  \n",
       "2006-01-04  102.619834  \n",
       "2006-01-05  102.684320  \n",
       "2006-01-06  103.538818  \n",
       "2006-01-09  103.804841  \n",
       "2006-01-10  103.909629  \n",
       "2006-01-11  104.240143  \n",
       "2006-01-12  103.829023  \n",
       "2006-01-13  103.732280  \n",
       "2006-01-17  103.450143  \n",
       "2006-01-18  103.039017  \n",
       "2006-01-19  103.434017  \n",
       "2006-01-20  101.547686  \n",
       "2006-01-23  101.910440  \n",
       "2006-01-24  102.015240  \n",
       "2006-01-25  102.103914  \n",
       "2006-01-26  102.668200  \n",
       "2006-01-27  103.619423  \n",
       "2006-01-30  103.538818  \n",
       "2006-01-31  102.781057  "
      ]
     },
     "execution_count": 104,
     "metadata": {},
     "output_type": "execute_result"
    }
   ],
   "source": [
    "data[:20]"
   ]
  },
  {
   "cell_type": "code",
   "execution_count": 105,
   "metadata": {
    "collapsed": false
   },
   "outputs": [],
   "source": [
    "px = data['Adj Close']\n",
    "returns = px.pct_change()\n",
    "\n",
    "def to_index(rets):\n",
    "    index = (1 + rets).cumprod()\n",
    "    first_loc = max(index.index.get_loc(index.idxmax()) - 1, 0)\n",
    "    index.values[first_loc] = 1\n",
    "    return index\n",
    "\n",
    "def trend_signal(rets, lookback, lag):\n",
    "    signal = pd.rolling_sum(rets, lookback, min_periods=lookback - 5)\n",
    "    return signal.shift(lag)"
   ]
  },
  {
   "cell_type": "code",
   "execution_count": 106,
   "metadata": {
    "collapsed": false
   },
   "outputs": [
    {
     "name": "stderr",
     "output_type": "stream",
     "text": [
      "//anaconda/lib/python3.5/site-packages/ipykernel/__main__.py:11: FutureWarning: pd.rolling_sum is deprecated for Series and will be removed in a future version, replace with \n",
      "\tSeries.rolling(center=False,min_periods=95,window=100).sum()\n",
      "//anaconda/lib/python3.5/site-packages/ipykernel/__main__.py:2: FutureWarning: .resample() is now a deferred operation\n",
      "use .resample(...).mean() instead of .resample(...)\n",
      "  from ipykernel import kernelapp as app\n",
      "//anaconda/lib/python3.5/site-packages/ipykernel/__main__.py:2: FutureWarning: fill_method is deprecated to .resample()\n",
      "the new syntax is .resample(...).ffill()\n",
      "  from ipykernel import kernelapp as app\n"
     ]
    }
   ],
   "source": [
    "signal = trend_signal(returns, 100, 3)\n",
    "trade_friday = signal.resample('W-FRI').resample('B', fill_method='ffill')\n",
    "trade_rets = trade_friday.shift(1) * returns\n",
    "trade_rets = trade_rets[:len(returns)]"
   ]
  },
  {
   "cell_type": "code",
   "execution_count": 107,
   "metadata": {
    "collapsed": false
   },
   "outputs": [
    {
     "data": {
      "text/plain": [
       "<matplotlib.axes._subplots.AxesSubplot at 0x11ad8c080>"
      ]
     },
     "execution_count": 107,
     "metadata": {},
     "output_type": "execute_result"
    },
    {
     "data": {
      "image/png": "[encoded data removed]",
      "text/plain": [
       "<matplotlib.figure.Figure at 0x120f685c0>"
      ]
     },
     "metadata": {},
     "output_type": "display_data"
    }
   ],
   "source": [
    "to_index(trade_rets).plot()"
   ]
  },
  {
   "cell_type": "code",
   "execution_count": 108,
   "metadata": {
    "collapsed": false
   },
   "outputs": [
    {
     "name": "stderr",
     "output_type": "stream",
     "text": [
      "//anaconda/lib/python3.5/site-packages/ipykernel/__main__.py:1: FutureWarning: pd.rolling_std is deprecated for Series and will be removed in a future version, replace with \n",
      "\tSeries.rolling(center=False,min_periods=200,window=250).std()\n",
      "  if __name__ == '__main__':\n"
     ]
    }
   ],
   "source": [
    "vol = pd.rolling_std(returns, 250, min_periods=200) * np.sqrt(250)\n",
    "\n",
    "def sharpe(rets, ann=250):\n",
    "    return rets.mean() / rets.std()  * np.sqrt(ann)"
   ]
  },
  {
   "cell_type": "code",
   "execution_count": 109,
   "metadata": {
    "collapsed": false
   },
   "outputs": [
    {
     "name": "stdout",
     "output_type": "stream",
     "text": [
      "cats: 2657, trade_rets: 2657, vol: 2657\n"
     ]
    }
   ],
   "source": [
    "cats = pd.qcut(vol, 4)\n",
    "print('cats: %d, trade_rets: %d, vol: %d' % (len(cats), len(trade_rets), len(vol)))"
   ]
  },
  {
   "cell_type": "code",
   "execution_count": 110,
   "metadata": {
    "collapsed": false
   },
   "outputs": [
    {
     "data": {
      "text/plain": [
       "Adj Close\n",
       "[0.0954, 0.116]    0.490280\n",
       "(0.116, 0.165]    -0.054223\n",
       "(0.165, 0.199]     0.491774\n",
       "(0.199, 0.457]     0.326532\n",
       "Name: Adj Close, dtype: float64"
      ]
     },
     "execution_count": 110,
     "metadata": {},
     "output_type": "execute_result"
    }
   ],
   "source": [
    "trade_rets.groupby(cats).agg(sharpe)"
   ]
  },
  {
   "cell_type": "markdown",
   "metadata": {},
   "source": [
    "## More example applications"
   ]
  },
  {
   "cell_type": "markdown",
   "metadata": {},
   "source": [
    "### Signal frontier analysis"
   ]
  },
  {
   "cell_type": "code",
   "execution_count": 111,
   "metadata": {
    "collapsed": false
   },
   "outputs": [],
   "source": [
    "names = ['AAPL', 'GOOG', 'MSFT', 'DELL', 'GS', 'MS', 'BAC', 'C']\n",
    "def get_px(stock, start, end):\n",
    "    return web.get_data_yahoo(stock, start, end)['Adj Close']\n",
    "px = DataFrame({n: get_px(n, None, None) for n in names})"
   ]
  },
  {
   "cell_type": "code",
   "execution_count": null,
   "metadata": {
    "collapsed": false
   },
   "outputs": [],
   "source": [
    "px = pd.read_pickle('notebooks/stock_prices')"
   ]
  },
  {
   "cell_type": "code",
   "execution_count": 134,
   "metadata": {
    "collapsed": false
   },
   "outputs": [],
   "source": [
    "plt.close('all')"
   ]
  },
  {
   "cell_type": "code",
   "execution_count": 113,
   "metadata": {
    "collapsed": false
   },
   "outputs": [
    {
     "data": {
      "text/plain": [
       "<matplotlib.axes._subplots.AxesSubplot at 0x121aae668>"
      ]
     },
     "execution_count": 113,
     "metadata": {},
     "output_type": "execute_result"
    },
    {
     "data": {
      "image/png": "[encoded data removed]",
      "text/plain": [
       "<matplotlib.figure.Figure at 0x121ae3588>"
      ]
     },
     "metadata": {},
     "output_type": "display_data"
    }
   ],
   "source": [
    "px = px.asfreq('B').fillna(method='pad')\n",
    "rets = px.pct_change()\n",
    "((1 + rets).cumprod() - 1).plot()"
   ]
  },
  {
   "cell_type": "code",
   "execution_count": 114,
   "metadata": {
    "collapsed": false
   },
   "outputs": [],
   "source": [
    "def calc_mom(price, lookback, lag):\n",
    "    mom_ret = price.shift(lag).pct_change(lookback)\n",
    "    ranks = mom_ret.rank(axis=1, ascending=False)\n",
    "    demeaned = ranks.subtract(ranks.mean(axis=1), axis=0)\n",
    "    return demeaned.divide(demeaned.std(axis=1), axis=0)"
   ]
  },
  {
   "cell_type": "code",
   "execution_count": 115,
   "metadata": {
    "collapsed": false
   },
   "outputs": [],
   "source": [
    "compound = lambda x : (1 + x).prod() - 1\n",
    "daily_sr = lambda x: x.mean() / x.std()\n",
    "\n",
    "def strat_sr(prices, lb, hold):\n",
    "    # Compute portfolio weights\n",
    "    freq = '%dB' % hold\n",
    "    port = calc_mom(prices, lb, lag=1)\n",
    "\n",
    "    daily_rets = prices.pct_change()\n",
    "\n",
    "    # Compute portfolio returns\n",
    "    port = port.shift(1).resample(freq, how='first')\n",
    "    returns = daily_rets.resample(freq, how=compound)\n",
    "    port_rets = (port * returns).sum(axis=1)\n",
    "\n",
    "    return daily_sr(port_rets) * np.sqrt(252 / hold)"
   ]
  },
  {
   "cell_type": "code",
   "execution_count": 116,
   "metadata": {
    "collapsed": false
   },
   "outputs": [
    {
     "name": "stderr",
     "output_type": "stream",
     "text": [
      "//anaconda/lib/python3.5/site-packages/ipykernel/__main__.py:12: FutureWarning: how in .resample() is deprecated\n",
      "the new syntax is .resample(...).first()\n",
      "//anaconda/lib/python3.5/site-packages/ipykernel/__main__.py:13: FutureWarning: how in .resample() is deprecated\n",
      "the new syntax is .resample(...)..apply(<func>)\n"
     ]
    },
    {
     "data": {
      "text/plain": [
       "-0.09070726640507136"
      ]
     },
     "execution_count": 116,
     "metadata": {},
     "output_type": "execute_result"
    }
   ],
   "source": [
    "strat_sr(px, 70, 30)"
   ]
  },
  {
   "cell_type": "code",
   "execution_count": 117,
   "metadata": {
    "collapsed": false
   },
   "outputs": [
    {
     "name": "stderr",
     "output_type": "stream",
     "text": [
      "//anaconda/lib/python3.5/site-packages/ipykernel/__main__.py:12: FutureWarning: how in .resample() is deprecated\n",
      "the new syntax is .resample(...).first()\n",
      "//anaconda/lib/python3.5/site-packages/ipykernel/__main__.py:13: FutureWarning: how in .resample() is deprecated\n",
      "the new syntax is .resample(...)..apply(<func>)\n"
     ]
    }
   ],
   "source": [
    "from collections import defaultdict\n",
    "\n",
    "lookbacks = range(20, 90, 5)\n",
    "holdings = range(20, 90, 5)\n",
    "dd = defaultdict(dict)\n",
    "for lb in lookbacks:\n",
    "    for hold in holdings:\n",
    "        dd[lb][hold] = strat_sr(px, lb, hold)\n",
    "\n",
    "ddf = DataFrame(dd)\n",
    "ddf.index.name = 'Holding Period'\n",
    "ddf.columns.name = 'Lookback Period'"
   ]
  },
  {
   "cell_type": "code",
   "execution_count": 118,
   "metadata": {
    "collapsed": false
   },
   "outputs": [],
   "source": [
    "import matplotlib.pyplot as plt\n",
    "\n",
    "def heatmap(df, cmap=plt.cm.gray_r):\n",
    "    fig = plt.figure()\n",
    "    ax = fig.add_subplot(111)\n",
    "    axim = ax.imshow(df.values, cmap=cmap, interpolation='nearest')\n",
    "    ax.set_xlabel(df.columns.name)\n",
    "    ax.set_xticks(np.arange(len(df.columns)))\n",
    "    ax.set_xticklabels(list(df.columns))\n",
    "    ax.set_ylabel(df.index.name)\n",
    "    ax.set_yticks(np.arange(len(df.index)))\n",
    "    ax.set_yticklabels(list(df.index))\n",
    "    plt.colorbar(axim)"
   ]
  },
  {
   "cell_type": "code",
   "execution_count": 119,
   "metadata": {
    "collapsed": false
   },
   "outputs": [
    {
     "data": {
      "image/png": "[encoded data removed]",
      "text/plain": [
       "<matplotlib.figure.Figure at 0x11abfe7f0>"
      ]
     },
     "metadata": {},
     "output_type": "display_data"
    }
   ],
   "source": [
    "heatmap(ddf)"
   ]
  },
  {
   "cell_type": "markdown",
   "metadata": {},
   "source": [
    "### Future contract rolling"
   ]
  },
  {
   "cell_type": "code",
   "execution_count": 120,
   "metadata": {
    "collapsed": false
   },
   "outputs": [],
   "source": [
    "pd.options.display.max_rows = 10"
   ]
  },
  {
   "cell_type": "code",
   "execution_count": 121,
   "metadata": {
    "collapsed": false
   },
   "outputs": [
    {
     "data": {
      "text/plain": [
       "Date\n",
       "2010-01-04     992.92299\n",
       "2010-01-05     995.55135\n",
       "2010-01-06     996.25228\n",
       "2010-01-07    1000.45775\n",
       "2010-01-08    1003.78704\n",
       "                 ...    \n",
       "2016-07-18    2164.10004\n",
       "2016-07-19    2161.90002\n",
       "2016-07-20    2170.89996\n",
       "2016-07-21    2162.70004\n",
       "2016-07-22    2172.40005\n",
       "Name: Adj Close, dtype: float64"
      ]
     },
     "execution_count": 121,
     "metadata": {},
     "output_type": "execute_result"
    }
   ],
   "source": [
    "import pandas.io.data as web\n",
    "# Approximate price of S&P 500 index\n",
    "px = web.get_data_yahoo('SPY')['Adj Close'] * 10\n",
    "px"
   ]
  },
  {
   "cell_type": "code",
   "execution_count": 122,
   "metadata": {
    "collapsed": false
   },
   "outputs": [
    {
     "name": "stderr",
     "output_type": "stream",
     "text": [
      "//anaconda/lib/python3.5/site-packages/ipykernel/__main__.py:4: FutureWarning: order is deprecated, use sort_values(...)\n"
     ]
    }
   ],
   "source": [
    "from datetime import datetime\n",
    "expiry = {'ESU2': datetime(2012, 9, 21),\n",
    "          'ESZ2': datetime(2012, 12, 21)}\n",
    "expiry = Series(expiry).order()"
   ]
  },
  {
   "cell_type": "code",
   "execution_count": 123,
   "metadata": {
    "collapsed": false
   },
   "outputs": [
    {
     "data": {
      "text/plain": [
       "ESU2   2012-09-21\n",
       "ESZ2   2012-12-21\n",
       "dtype: datetime64[ns]"
      ]
     },
     "execution_count": 123,
     "metadata": {},
     "output_type": "execute_result"
    }
   ],
   "source": [
    "expiry"
   ]
  },
  {
   "cell_type": "code",
   "execution_count": 124,
   "metadata": {
    "collapsed": false
   },
   "outputs": [],
   "source": [
    "np.random.seed(12347)\n",
    "N = 200\n",
    "walk = (np.random.randint(0, 200, size=N) - 100) * 0.25\n",
    "perturb = (np.random.randint(0, 20, size=N) - 10) * 0.25\n",
    "walk = walk.cumsum()\n",
    "\n",
    "rng = pd.date_range(px.index[0], periods=len(px) + N, freq='B')\n",
    "near = np.concatenate([px.values, px.values[-1] + walk])\n",
    "far = np.concatenate([px.values, px.values[-1] + walk + perturb])\n",
    "prices = DataFrame({'ESU2': near, 'ESZ2': far}, index=rng)"
   ]
  },
  {
   "cell_type": "code",
   "execution_count": 125,
   "metadata": {
    "collapsed": false
   },
   "outputs": [
    {
     "data": {
      "text/html": [
       "<div>\n",
       "<table border=\"1\" class=\"dataframe\">\n",
       "  <thead>\n",
       "    <tr style=\"text-align: right;\">\n",
       "      <th></th>\n",
       "      <th>ESU2</th>\n",
       "      <th>ESZ2</th>\n",
       "    </tr>\n",
       "  </thead>\n",
       "  <tbody>\n",
       "    <tr>\n",
       "      <th>2017-01-30</th>\n",
       "      <td>2201.65005</td>\n",
       "      <td>2203.40005</td>\n",
       "    </tr>\n",
       "    <tr>\n",
       "      <th>2017-01-31</th>\n",
       "      <td>2187.90005</td>\n",
       "      <td>2190.15005</td>\n",
       "    </tr>\n",
       "    <tr>\n",
       "      <th>2017-02-01</th>\n",
       "      <td>2195.90005</td>\n",
       "      <td>2197.65005</td>\n",
       "    </tr>\n",
       "    <tr>\n",
       "      <th>2017-02-02</th>\n",
       "      <td>2212.40005</td>\n",
       "      <td>2211.65005</td>\n",
       "    </tr>\n",
       "    <tr>\n",
       "      <th>2017-02-03</th>\n",
       "      <td>2192.40005</td>\n",
       "      <td>2190.15005</td>\n",
       "    </tr>\n",
       "  </tbody>\n",
       "</table>\n",
       "</div>"
      ],
      "text/plain": [
       "                  ESU2        ESZ2\n",
       "2017-01-30  2201.65005  2203.40005\n",
       "2017-01-31  2187.90005  2190.15005\n",
       "2017-02-01  2195.90005  2197.65005\n",
       "2017-02-02  2212.40005  2211.65005\n",
       "2017-02-03  2192.40005  2190.15005"
      ]
     },
     "execution_count": 125,
     "metadata": {},
     "output_type": "execute_result"
    }
   ],
   "source": [
    "prices.tail()"
   ]
  },
  {
   "cell_type": "code",
   "execution_count": 126,
   "metadata": {
    "collapsed": false
   },
   "outputs": [],
   "source": [
    "def get_roll_weights(start, expiry, items, roll_periods=5):\n",
    "    # start : first date to compute weighting DataFrame\n",
    "    # expiry : Series of ticker -> expiration dates\n",
    "    # items : sequence of contract names\n",
    "\n",
    "    dates = pd.date_range(start, expiry[-1], freq='B')\n",
    "    weights = DataFrame(np.zeros((len(dates), len(items))),\n",
    "                        index=dates, columns=items)\n",
    "\n",
    "    prev_date = weights.index[0]\n",
    "    for i, (item, ex_date) in enumerate(expiry.iteritems()):\n",
    "        if i < len(expiry) - 1:\n",
    "            weights.ix[prev_date:ex_date - pd.offsets.BDay(), item] = 1\n",
    "            roll_rng = pd.date_range(end=ex_date - pd.offsets.BDay(),\n",
    "                                     periods=roll_periods + 1, freq='B')\n",
    "\n",
    "            decay_weights = np.linspace(0, 1, roll_periods + 1)\n",
    "            weights.ix[roll_rng, item] = 1 - decay_weights\n",
    "            weights.ix[roll_rng, expiry.index[i + 1]] = decay_weights\n",
    "        else:\n",
    "            weights.ix[prev_date:, item] = 1\n",
    "\n",
    "        prev_date = ex_date\n",
    "\n",
    "    return weights"
   ]
  },
  {
   "cell_type": "code",
   "execution_count": 127,
   "metadata": {
    "collapsed": false
   },
   "outputs": [
    {
     "data": {
      "text/html": [
       "<div>\n",
       "<table border=\"1\" class=\"dataframe\">\n",
       "  <thead>\n",
       "    <tr style=\"text-align: right;\">\n",
       "      <th></th>\n",
       "      <th>ESU2</th>\n",
       "      <th>ESZ2</th>\n",
       "    </tr>\n",
       "  </thead>\n",
       "  <tbody>\n",
       "    <tr>\n",
       "      <th>2012-09-12</th>\n",
       "      <td>1.0</td>\n",
       "      <td>0.0</td>\n",
       "    </tr>\n",
       "    <tr>\n",
       "      <th>2012-09-13</th>\n",
       "      <td>1.0</td>\n",
       "      <td>0.0</td>\n",
       "    </tr>\n",
       "    <tr>\n",
       "      <th>2012-09-14</th>\n",
       "      <td>0.8</td>\n",
       "      <td>0.2</td>\n",
       "    </tr>\n",
       "    <tr>\n",
       "      <th>2012-09-17</th>\n",
       "      <td>0.6</td>\n",
       "      <td>0.4</td>\n",
       "    </tr>\n",
       "    <tr>\n",
       "      <th>2012-09-18</th>\n",
       "      <td>0.4</td>\n",
       "      <td>0.6</td>\n",
       "    </tr>\n",
       "    <tr>\n",
       "      <th>2012-09-19</th>\n",
       "      <td>0.2</td>\n",
       "      <td>0.8</td>\n",
       "    </tr>\n",
       "    <tr>\n",
       "      <th>2012-09-20</th>\n",
       "      <td>0.0</td>\n",
       "      <td>1.0</td>\n",
       "    </tr>\n",
       "    <tr>\n",
       "      <th>2012-09-21</th>\n",
       "      <td>0.0</td>\n",
       "      <td>1.0</td>\n",
       "    </tr>\n",
       "  </tbody>\n",
       "</table>\n",
       "</div>"
      ],
      "text/plain": [
       "            ESU2  ESZ2\n",
       "2012-09-12   1.0   0.0\n",
       "2012-09-13   1.0   0.0\n",
       "2012-09-14   0.8   0.2\n",
       "2012-09-17   0.6   0.4\n",
       "2012-09-18   0.4   0.6\n",
       "2012-09-19   0.2   0.8\n",
       "2012-09-20   0.0   1.0\n",
       "2012-09-21   0.0   1.0"
      ]
     },
     "execution_count": 127,
     "metadata": {},
     "output_type": "execute_result"
    }
   ],
   "source": [
    "weights = get_roll_weights('6/1/2012', expiry, prices.columns)\n",
    "weights.ix['2012-09-12':'2012-09-21']"
   ]
  },
  {
   "cell_type": "code",
   "execution_count": 128,
   "metadata": {
    "collapsed": false
   },
   "outputs": [],
   "source": [
    "rolled_returns = (prices.pct_change() * weights).sum(1)"
   ]
  },
  {
   "cell_type": "markdown",
   "metadata": {},
   "source": [
    "### Rolling correlation and linear regression"
   ]
  },
  {
   "cell_type": "code",
   "execution_count": 132,
   "metadata": {
    "collapsed": false
   },
   "outputs": [],
   "source": [
    "aapl = web.get_data_yahoo('AAPL', '2000-01-01')['Adj Close']\n",
    "msft = web.get_data_yahoo('MSFT', '2000-01-01')['Adj Close']\n",
    "\n",
    "aapl_rets = aapl.pct_change()\n",
    "msft_rets = msft.pct_change()"
   ]
  },
  {
   "cell_type": "code",
   "execution_count": 135,
   "metadata": {
    "collapsed": false
   },
   "outputs": [
    {
     "data": {
      "text/plain": [
       "<matplotlib.figure.Figure at 0x11ac4c9b0>"
      ]
     },
     "execution_count": 135,
     "metadata": {},
     "output_type": "execute_result"
    },
    {
     "data": {
      "text/plain": [
       "<matplotlib.figure.Figure at 0x11ac4c9b0>"
      ]
     },
     "metadata": {},
     "output_type": "display_data"
    }
   ],
   "source": [
    "plt.figure()"
   ]
  },
  {
   "cell_type": "code",
   "execution_count": 136,
   "metadata": {
    "collapsed": false
   },
   "outputs": [
    {
     "name": "stderr",
     "output_type": "stream",
     "text": [
      "//anaconda/lib/python3.5/site-packages/ipykernel/__main__.py:1: FutureWarning: pd.rolling_corr is deprecated for Series and will be removed in a future version, replace with \n",
      "\tSeries.rolling(window=250).corr(other=<Series>)\n",
      "  if __name__ == '__main__':\n"
     ]
    },
    {
     "data": {
      "text/plain": [
       "<matplotlib.axes._subplots.AxesSubplot at 0x121e72390>"
      ]
     },
     "execution_count": 136,
     "metadata": {},
     "output_type": "execute_result"
    },
    {
     "data": {
      "image/png": "[encoded data removed]",
      "text/plain": [
       "<matplotlib.figure.Figure at 0x121bf0908>"
      ]
     },
     "metadata": {},
     "output_type": "display_data"
    }
   ],
   "source": [
    "pd.rolling_corr(aapl_rets, msft_rets, 250).plot()"
   ]
  },
  {
   "cell_type": "code",
   "execution_count": 137,
   "metadata": {
    "collapsed": false
   },
   "outputs": [
    {
     "data": {
      "text/plain": [
       "<matplotlib.figure.Figure at 0x121bf0828>"
      ]
     },
     "execution_count": 137,
     "metadata": {},
     "output_type": "execute_result"
    },
    {
     "data": {
      "text/plain": [
       "<matplotlib.figure.Figure at 0x121bf0828>"
      ]
     },
     "metadata": {},
     "output_type": "display_data"
    }
   ],
   "source": [
    "plt.figure()"
   ]
  },
  {
   "cell_type": "code",
   "execution_count": 138,
   "metadata": {
    "collapsed": false
   },
   "outputs": [
    {
     "name": "stderr",
     "output_type": "stream",
     "text": [
      "//anaconda/lib/python3.5/site-packages/ipykernel/__main__.py:1: FutureWarning: The pandas.stats.ols module is deprecated and will be removed in a future version. We refer to external packages like statsmodels, see some examples here: http://statsmodels.sourceforge.net/stable/regression.html\n",
      "  if __name__ == '__main__':\n"
     ]
    },
    {
     "data": {
      "text/html": [
       "<div>\n",
       "<table border=\"1\" class=\"dataframe\">\n",
       "  <thead>\n",
       "    <tr style=\"text-align: right;\">\n",
       "      <th></th>\n",
       "      <th>MSFT</th>\n",
       "      <th>intercept</th>\n",
       "    </tr>\n",
       "    <tr>\n",
       "      <th>Date</th>\n",
       "      <th></th>\n",
       "      <th></th>\n",
       "    </tr>\n",
       "  </thead>\n",
       "  <tbody>\n",
       "    <tr>\n",
       "      <th>2000-12-28</th>\n",
       "      <td>0.429021</td>\n",
       "      <td>-0.002113</td>\n",
       "    </tr>\n",
       "    <tr>\n",
       "      <th>2000-12-29</th>\n",
       "      <td>0.421102</td>\n",
       "      <td>-0.001796</td>\n",
       "    </tr>\n",
       "    <tr>\n",
       "      <th>2001-01-02</th>\n",
       "      <td>0.420595</td>\n",
       "      <td>-0.001839</td>\n",
       "    </tr>\n",
       "    <tr>\n",
       "      <th>2001-01-03</th>\n",
       "      <td>0.433292</td>\n",
       "      <td>-0.001289</td>\n",
       "    </tr>\n",
       "    <tr>\n",
       "      <th>2001-01-04</th>\n",
       "      <td>0.432772</td>\n",
       "      <td>-0.001307</td>\n",
       "    </tr>\n",
       "    <tr>\n",
       "      <th>...</th>\n",
       "      <td>...</td>\n",
       "      <td>...</td>\n",
       "    </tr>\n",
       "    <tr>\n",
       "      <th>2016-07-18</th>\n",
       "      <td>0.618272</td>\n",
       "      <td>-0.001330</td>\n",
       "    </tr>\n",
       "    <tr>\n",
       "      <th>2016-07-19</th>\n",
       "      <td>0.606500</td>\n",
       "      <td>-0.001200</td>\n",
       "    </tr>\n",
       "    <tr>\n",
       "      <th>2016-07-20</th>\n",
       "      <td>0.587345</td>\n",
       "      <td>-0.001273</td>\n",
       "    </tr>\n",
       "    <tr>\n",
       "      <th>2016-07-21</th>\n",
       "      <td>0.587345</td>\n",
       "      <td>-0.001277</td>\n",
       "    </tr>\n",
       "    <tr>\n",
       "      <th>2016-07-22</th>\n",
       "      <td>0.584059</td>\n",
       "      <td>-0.001312</td>\n",
       "    </tr>\n",
       "  </tbody>\n",
       "</table>\n",
       "<p>3915 rows × 2 columns</p>\n",
       "</div>"
      ],
      "text/plain": [
       "                MSFT  intercept\n",
       "Date                           \n",
       "2000-12-28  0.429021  -0.002113\n",
       "2000-12-29  0.421102  -0.001796\n",
       "2001-01-02  0.420595  -0.001839\n",
       "2001-01-03  0.433292  -0.001289\n",
       "2001-01-04  0.432772  -0.001307\n",
       "...              ...        ...\n",
       "2016-07-18  0.618272  -0.001330\n",
       "2016-07-19  0.606500  -0.001200\n",
       "2016-07-20  0.587345  -0.001273\n",
       "2016-07-21  0.587345  -0.001277\n",
       "2016-07-22  0.584059  -0.001312\n",
       "\n",
       "[3915 rows x 2 columns]"
      ]
     },
     "execution_count": 138,
     "metadata": {},
     "output_type": "execute_result"
    }
   ],
   "source": [
    "model = pd.ols(y=aapl_rets, x={'MSFT': msft_rets}, window=250)\n",
    "model.beta"
   ]
  },
  {
   "cell_type": "code",
   "execution_count": 139,
   "metadata": {
    "collapsed": false
   },
   "outputs": [
    {
     "data": {
      "text/plain": [
       "<matplotlib.axes._subplots.AxesSubplot at 0x121bcfda0>"
      ]
     },
     "execution_count": 139,
     "metadata": {},
     "output_type": "execute_result"
    },
    {
     "data": {
      "image/png": "[encoded data removed]",
      "text/plain": [
       "<matplotlib.figure.Figure at 0x11ac72400>"
      ]
     },
     "metadata": {},
     "output_type": "display_data"
    }
   ],
   "source": [
    "model.beta['MSFT'].plot()"
   ]
  },
  {
   "cell_type": "code",
   "execution_count": null,
   "metadata": {
    "collapsed": true
   },
   "outputs": [],
   "source": []
  }
 ],
 "metadata": {
  "anaconda-cloud": {},
  "kernelspec": {
   "display_name": "Python [Root]",
   "language": "python",
   "name": "Python [Root]"
  },
  "language_info": {
   "codemirror_mode": {
    "name": "ipython",
    "version": 3
   },
   "file_extension": ".py",
   "mimetype": "text/x-python",
   "name": "python",
   "nbconvert_exporter": "python",
   "pygments_lexer": "ipython3",
   "version": "3.5.2"
  }
 },
 "nbformat": 4,
 "nbformat_minor": 0
}
